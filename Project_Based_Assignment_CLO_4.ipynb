{
  "cells": [
    {
      "cell_type": "markdown",
      "metadata": {
        "id": "view-in-github",
        "colab_type": "text"
      },
      "source": [
        "<a href=\"https://colab.research.google.com/github/firman-hoerulloh/python_AnalysisDataIndianLiverPatientDataset-ILPD-nt/blob/main/Project_Based_Assignment_CLO_4.ipynb\" target=\"_parent\"><img src=\"https://colab.research.google.com/assets/colab-badge.svg\" alt=\"Open In Colab\"/></a>"
      ]
    },
    {
      "cell_type": "markdown",
      "id": "0998ab93",
      "metadata": {
        "id": "0998ab93"
      },
      "source": [
        "# <center>Project-Based Assignment CLO-4</center>"
      ]
    },
    {
      "cell_type": "markdown",
      "id": "b9dd2c3d",
      "metadata": {
        "id": "b9dd2c3d"
      },
      "source": [
        "<b>Topik</b>\n",
        "Implementation of Ensemble Method on Classification Task\n",
        "\n",
        "<b>Anggota Kelompok</b>\n",
        "1. Firman Hoerulloh - 1301213392\n",
        "2. Gregorius Marcelino - 1301213483\n",
        "3. Reza Mu'ammar Widyanto - 1301210513"
      ]
    },
    {
      "cell_type": "markdown",
      "id": "f67c8e8d",
      "metadata": {
        "id": "f67c8e8d"
      },
      "source": [
        "#### Latar Belakang\n",
        "Kematian akibat sirosis hati terus meningkat, mengingat peningkatan tingkat konsumsi alkohol, infeksi hepatitis kronis, dan penyakit hati yang berhubungan dengan obesitas. Terlepas dari tingginya angka kematian akibat penyakit ini, penyakit hati tidak mempengaruhi semua sub-populasi secara merata. Deteksi dini patologi merupakan penentu hasil akhir pasien, namun pasien wanita tampaknya terpinggirkan dalam hal diagnosis dini patologi hati.\n",
        "\n",
        "Dataset yang digunakan adalah ILPD (Indian Liver Patient Dataset). Dataset ini merupakan dataset yang memiliki informasi terkait pasien yang memiliki penyakit hati, dengan rincian 11 fitur dan 584 catatan pasien yang dikumpulkan dari Timur Laut Andhra Pradesh, India.\n"
      ]
    },
    {
      "cell_type": "markdown",
      "source": [
        "# Data Preprocessing"
      ],
      "metadata": {
        "id": "MKMPa42xUwaX"
      },
      "id": "MKMPa42xUwaX"
    },
    {
      "cell_type": "code",
      "source": [
        "import pandas as pd\n",
        "import numpy as np\n",
        "import seaborn as sns\n",
        "import matplotlib.pyplot as plt\n",
        "from matplotlib import rcParams\n",
        "from scipy import stats\n",
        "from sklearn.model_selection import train_test_split\n",
        "from sklearn.ensemble import RandomForestClassifier\n",
        "from sklearn.metrics import accuracy_score,classification_report"
      ],
      "metadata": {
        "id": "HnNP-0wMIb5K"
      },
      "id": "HnNP-0wMIb5K",
      "execution_count": null,
      "outputs": []
    },
    {
      "cell_type": "code",
      "source": [
        "# Baca dataset\n",
        "df1 = pd.read_csv('dataset/indian_liver_patient.csv')\n",
        "# Melihat 5 baris pertama\n",
        "print(df1.head())"
      ],
      "metadata": {
        "colab": {
          "base_uri": "https://localhost:8080/"
        },
        "id": "8NW64fBgImo3",
        "outputId": "c80d884b-fdcc-4eb8-d50e-fae2a860ffa4"
      },
      "id": "8NW64fBgImo3",
      "execution_count": null,
      "outputs": [
        {
          "output_type": "stream",
          "name": "stdout",
          "text": [
            "   Age  Gender  Total_Bilirubin  Direct_Bilirubin  Alkaline_Phosphotase  \\\n",
            "0   65  Female              0.7               0.1                   187   \n",
            "1   62    Male             10.9               5.5                   699   \n",
            "2   62    Male              7.3               4.1                   490   \n",
            "3   58    Male              1.0               0.4                   182   \n",
            "4   72    Male              3.9               2.0                   195   \n",
            "\n",
            "   Alamine_Aminotransferase  Aspartate_Aminotransferase  Total_Protiens  \\\n",
            "0                        16                          18             6.8   \n",
            "1                        64                         100             7.5   \n",
            "2                        60                          68             7.0   \n",
            "3                        14                          20             6.8   \n",
            "4                        27                          59             7.3   \n",
            "\n",
            "   Albumin  Albumin_and_Globulin_Ratio  Dataset  \n",
            "0      3.3                        0.90        1  \n",
            "1      3.2                        0.74        1  \n",
            "2      3.3                        0.89        1  \n",
            "3      3.4                        1.00        1  \n",
            "4      2.4                        0.40        1  \n"
          ]
        }
      ]
    },
    {
      "cell_type": "code",
      "source": [
        "# Melihat informasi dataset\n",
        "print(df1.info())"
      ],
      "metadata": {
        "colab": {
          "base_uri": "https://localhost:8080/"
        },
        "id": "IHkiNXbbMQmo",
        "outputId": "68b3c993-196d-40f4-cb13-45d16cc828c9"
      },
      "id": "IHkiNXbbMQmo",
      "execution_count": null,
      "outputs": [
        {
          "output_type": "stream",
          "name": "stdout",
          "text": [
            "<class 'pandas.core.frame.DataFrame'>\n",
            "RangeIndex: 583 entries, 0 to 582\n",
            "Data columns (total 11 columns):\n",
            " #   Column                      Non-Null Count  Dtype  \n",
            "---  ------                      --------------  -----  \n",
            " 0   Age                         583 non-null    int64  \n",
            " 1   Gender                      583 non-null    object \n",
            " 2   Total_Bilirubin             583 non-null    float64\n",
            " 3   Direct_Bilirubin            583 non-null    float64\n",
            " 4   Alkaline_Phosphotase        583 non-null    int64  \n",
            " 5   Alamine_Aminotransferase    583 non-null    int64  \n",
            " 6   Aspartate_Aminotransferase  583 non-null    int64  \n",
            " 7   Total_Protiens              583 non-null    float64\n",
            " 8   Albumin                     583 non-null    float64\n",
            " 9   Albumin_and_Globulin_Ratio  579 non-null    float64\n",
            " 10  Dataset                     583 non-null    int64  \n",
            "dtypes: float64(5), int64(5), object(1)\n",
            "memory usage: 50.2+ KB\n",
            "None\n"
          ]
        }
      ]
    },
    {
      "cell_type": "markdown",
      "source": [
        "# Exploration Data Analysis"
      ],
      "metadata": {
        "id": "25VB2fEdU2hE"
      },
      "id": "25VB2fEdU2hE"
    },
    {
      "cell_type": "code",
      "source": [
        "# Periksa nilai yang hilang\n",
        "print(df1.isnull().sum())"
      ],
      "metadata": {
        "colab": {
          "base_uri": "https://localhost:8080/"
        },
        "id": "hZj0DPhsM7Yl",
        "outputId": "dcedfcf3-d8ea-4d62-c78c-42a581c59e41"
      },
      "id": "hZj0DPhsM7Yl",
      "execution_count": null,
      "outputs": [
        {
          "output_type": "stream",
          "name": "stdout",
          "text": [
            "Age                           0\n",
            "Gender                        0\n",
            "Total_Bilirubin               0\n",
            "Direct_Bilirubin              0\n",
            "Alkaline_Phosphotase          0\n",
            "Alamine_Aminotransferase      0\n",
            "Aspartate_Aminotransferase    0\n",
            "Total_Protiens                0\n",
            "Albumin                       0\n",
            "Albumin_and_Globulin_Ratio    4\n",
            "Dataset                       0\n",
            "dtype: int64\n"
          ]
        }
      ]
    },
    {
      "cell_type": "markdown",
      "source": [
        "** 4 nilai yang hilang dalam Albumin_and_Globulin_Ratio.**\n",
        "\n"
      ],
      "metadata": {
        "id": "wYu_pzXDNJJT"
      },
      "id": "wYu_pzXDNJJT"
    },
    {
      "cell_type": "code",
      "source": [
        "# Mengganti nilai yang hilang dengan rata-ratanya\n",
        "df=df1.fillna(df1.mean())\n",
        "df.head()"
      ],
      "metadata": {
        "colab": {
          "base_uri": "https://localhost:8080/",
          "height": 262
        },
        "id": "I23F0FZgOLhw",
        "outputId": "c54d056c-5ce0-4427-9a03-451e61b3dfc9"
      },
      "id": "I23F0FZgOLhw",
      "execution_count": null,
      "outputs": [
        {
          "output_type": "stream",
          "name": "stderr",
          "text": [
            "<ipython-input-71-fc3a88874ccd>:2: FutureWarning: The default value of numeric_only in DataFrame.mean is deprecated. In a future version, it will default to False. In addition, specifying 'numeric_only=None' is deprecated. Select only valid columns or specify the value of numeric_only to silence this warning.\n",
            "  df=df1.fillna(df1.mean())\n"
          ]
        },
        {
          "output_type": "execute_result",
          "data": {
            "text/plain": [
              "   Age  Gender  Total_Bilirubin  Direct_Bilirubin  Alkaline_Phosphotase  \\\n",
              "0   65  Female              0.7               0.1                   187   \n",
              "1   62    Male             10.9               5.5                   699   \n",
              "2   62    Male              7.3               4.1                   490   \n",
              "3   58    Male              1.0               0.4                   182   \n",
              "4   72    Male              3.9               2.0                   195   \n",
              "\n",
              "   Alamine_Aminotransferase  Aspartate_Aminotransferase  Total_Protiens  \\\n",
              "0                        16                          18             6.8   \n",
              "1                        64                         100             7.5   \n",
              "2                        60                          68             7.0   \n",
              "3                        14                          20             6.8   \n",
              "4                        27                          59             7.3   \n",
              "\n",
              "   Albumin  Albumin_and_Globulin_Ratio  Dataset  \n",
              "0      3.3                        0.90        1  \n",
              "1      3.2                        0.74        1  \n",
              "2      3.3                        0.89        1  \n",
              "3      3.4                        1.00        1  \n",
              "4      2.4                        0.40        1  "
            ],
            "text/html": [
              "\n",
              "  <div id=\"df-e2fd135d-d749-4a88-800f-ab86cdf83b88\" class=\"colab-df-container\">\n",
              "    <div>\n",
              "<style scoped>\n",
              "    .dataframe tbody tr th:only-of-type {\n",
              "        vertical-align: middle;\n",
              "    }\n",
              "\n",
              "    .dataframe tbody tr th {\n",
              "        vertical-align: top;\n",
              "    }\n",
              "\n",
              "    .dataframe thead th {\n",
              "        text-align: right;\n",
              "    }\n",
              "</style>\n",
              "<table border=\"1\" class=\"dataframe\">\n",
              "  <thead>\n",
              "    <tr style=\"text-align: right;\">\n",
              "      <th></th>\n",
              "      <th>Age</th>\n",
              "      <th>Gender</th>\n",
              "      <th>Total_Bilirubin</th>\n",
              "      <th>Direct_Bilirubin</th>\n",
              "      <th>Alkaline_Phosphotase</th>\n",
              "      <th>Alamine_Aminotransferase</th>\n",
              "      <th>Aspartate_Aminotransferase</th>\n",
              "      <th>Total_Protiens</th>\n",
              "      <th>Albumin</th>\n",
              "      <th>Albumin_and_Globulin_Ratio</th>\n",
              "      <th>Dataset</th>\n",
              "    </tr>\n",
              "  </thead>\n",
              "  <tbody>\n",
              "    <tr>\n",
              "      <th>0</th>\n",
              "      <td>65</td>\n",
              "      <td>Female</td>\n",
              "      <td>0.7</td>\n",
              "      <td>0.1</td>\n",
              "      <td>187</td>\n",
              "      <td>16</td>\n",
              "      <td>18</td>\n",
              "      <td>6.8</td>\n",
              "      <td>3.3</td>\n",
              "      <td>0.90</td>\n",
              "      <td>1</td>\n",
              "    </tr>\n",
              "    <tr>\n",
              "      <th>1</th>\n",
              "      <td>62</td>\n",
              "      <td>Male</td>\n",
              "      <td>10.9</td>\n",
              "      <td>5.5</td>\n",
              "      <td>699</td>\n",
              "      <td>64</td>\n",
              "      <td>100</td>\n",
              "      <td>7.5</td>\n",
              "      <td>3.2</td>\n",
              "      <td>0.74</td>\n",
              "      <td>1</td>\n",
              "    </tr>\n",
              "    <tr>\n",
              "      <th>2</th>\n",
              "      <td>62</td>\n",
              "      <td>Male</td>\n",
              "      <td>7.3</td>\n",
              "      <td>4.1</td>\n",
              "      <td>490</td>\n",
              "      <td>60</td>\n",
              "      <td>68</td>\n",
              "      <td>7.0</td>\n",
              "      <td>3.3</td>\n",
              "      <td>0.89</td>\n",
              "      <td>1</td>\n",
              "    </tr>\n",
              "    <tr>\n",
              "      <th>3</th>\n",
              "      <td>58</td>\n",
              "      <td>Male</td>\n",
              "      <td>1.0</td>\n",
              "      <td>0.4</td>\n",
              "      <td>182</td>\n",
              "      <td>14</td>\n",
              "      <td>20</td>\n",
              "      <td>6.8</td>\n",
              "      <td>3.4</td>\n",
              "      <td>1.00</td>\n",
              "      <td>1</td>\n",
              "    </tr>\n",
              "    <tr>\n",
              "      <th>4</th>\n",
              "      <td>72</td>\n",
              "      <td>Male</td>\n",
              "      <td>3.9</td>\n",
              "      <td>2.0</td>\n",
              "      <td>195</td>\n",
              "      <td>27</td>\n",
              "      <td>59</td>\n",
              "      <td>7.3</td>\n",
              "      <td>2.4</td>\n",
              "      <td>0.40</td>\n",
              "      <td>1</td>\n",
              "    </tr>\n",
              "  </tbody>\n",
              "</table>\n",
              "</div>\n",
              "    <div class=\"colab-df-buttons\">\n",
              "\n",
              "  <div class=\"colab-df-container\">\n",
              "    <button class=\"colab-df-convert\" onclick=\"convertToInteractive('df-e2fd135d-d749-4a88-800f-ab86cdf83b88')\"\n",
              "            title=\"Convert this dataframe to an interactive table.\"\n",
              "            style=\"display:none;\">\n",
              "\n",
              "  <svg xmlns=\"http://www.w3.org/2000/svg\" height=\"24px\" viewBox=\"0 -960 960 960\">\n",
              "    <path d=\"M120-120v-720h720v720H120Zm60-500h600v-160H180v160Zm220 220h160v-160H400v160Zm0 220h160v-160H400v160ZM180-400h160v-160H180v160Zm440 0h160v-160H620v160ZM180-180h160v-160H180v160Zm440 0h160v-160H620v160Z\"/>\n",
              "  </svg>\n",
              "    </button>\n",
              "\n",
              "  <style>\n",
              "    .colab-df-container {\n",
              "      display:flex;\n",
              "      gap: 12px;\n",
              "    }\n",
              "\n",
              "    .colab-df-convert {\n",
              "      background-color: #E8F0FE;\n",
              "      border: none;\n",
              "      border-radius: 50%;\n",
              "      cursor: pointer;\n",
              "      display: none;\n",
              "      fill: #1967D2;\n",
              "      height: 32px;\n",
              "      padding: 0 0 0 0;\n",
              "      width: 32px;\n",
              "    }\n",
              "\n",
              "    .colab-df-convert:hover {\n",
              "      background-color: #E2EBFA;\n",
              "      box-shadow: 0px 1px 2px rgba(60, 64, 67, 0.3), 0px 1px 3px 1px rgba(60, 64, 67, 0.15);\n",
              "      fill: #174EA6;\n",
              "    }\n",
              "\n",
              "    .colab-df-buttons div {\n",
              "      margin-bottom: 4px;\n",
              "    }\n",
              "\n",
              "    [theme=dark] .colab-df-convert {\n",
              "      background-color: #3B4455;\n",
              "      fill: #D2E3FC;\n",
              "    }\n",
              "\n",
              "    [theme=dark] .colab-df-convert:hover {\n",
              "      background-color: #434B5C;\n",
              "      box-shadow: 0px 1px 3px 1px rgba(0, 0, 0, 0.15);\n",
              "      filter: drop-shadow(0px 1px 2px rgba(0, 0, 0, 0.3));\n",
              "      fill: #FFFFFF;\n",
              "    }\n",
              "  </style>\n",
              "\n",
              "    <script>\n",
              "      const buttonEl =\n",
              "        document.querySelector('#df-e2fd135d-d749-4a88-800f-ab86cdf83b88 button.colab-df-convert');\n",
              "      buttonEl.style.display =\n",
              "        google.colab.kernel.accessAllowed ? 'block' : 'none';\n",
              "\n",
              "      async function convertToInteractive(key) {\n",
              "        const element = document.querySelector('#df-e2fd135d-d749-4a88-800f-ab86cdf83b88');\n",
              "        const dataTable =\n",
              "          await google.colab.kernel.invokeFunction('convertToInteractive',\n",
              "                                                    [key], {});\n",
              "        if (!dataTable) return;\n",
              "\n",
              "        const docLinkHtml = 'Like what you see? Visit the ' +\n",
              "          '<a target=\"_blank\" href=https://colab.research.google.com/notebooks/data_table.ipynb>data table notebook</a>'\n",
              "          + ' to learn more about interactive tables.';\n",
              "        element.innerHTML = '';\n",
              "        dataTable['output_type'] = 'display_data';\n",
              "        await google.colab.output.renderOutput(dataTable, element);\n",
              "        const docLink = document.createElement('div');\n",
              "        docLink.innerHTML = docLinkHtml;\n",
              "        element.appendChild(docLink);\n",
              "      }\n",
              "    </script>\n",
              "  </div>\n",
              "\n",
              "\n",
              "<div id=\"df-9e2e5fa3-41d0-4f83-9410-16f3fe03c052\">\n",
              "  <button class=\"colab-df-quickchart\" onclick=\"quickchart('df-9e2e5fa3-41d0-4f83-9410-16f3fe03c052')\"\n",
              "            title=\"Suggest charts\"\n",
              "            style=\"display:none;\">\n",
              "\n",
              "<svg xmlns=\"http://www.w3.org/2000/svg\" height=\"24px\"viewBox=\"0 0 24 24\"\n",
              "     width=\"24px\">\n",
              "    <g>\n",
              "        <path d=\"M19 3H5c-1.1 0-2 .9-2 2v14c0 1.1.9 2 2 2h14c1.1 0 2-.9 2-2V5c0-1.1-.9-2-2-2zM9 17H7v-7h2v7zm4 0h-2V7h2v10zm4 0h-2v-4h2v4z\"/>\n",
              "    </g>\n",
              "</svg>\n",
              "  </button>\n",
              "\n",
              "<style>\n",
              "  .colab-df-quickchart {\n",
              "      --bg-color: #E8F0FE;\n",
              "      --fill-color: #1967D2;\n",
              "      --hover-bg-color: #E2EBFA;\n",
              "      --hover-fill-color: #174EA6;\n",
              "      --disabled-fill-color: #AAA;\n",
              "      --disabled-bg-color: #DDD;\n",
              "  }\n",
              "\n",
              "  [theme=dark] .colab-df-quickchart {\n",
              "      --bg-color: #3B4455;\n",
              "      --fill-color: #D2E3FC;\n",
              "      --hover-bg-color: #434B5C;\n",
              "      --hover-fill-color: #FFFFFF;\n",
              "      --disabled-bg-color: #3B4455;\n",
              "      --disabled-fill-color: #666;\n",
              "  }\n",
              "\n",
              "  .colab-df-quickchart {\n",
              "    background-color: var(--bg-color);\n",
              "    border: none;\n",
              "    border-radius: 50%;\n",
              "    cursor: pointer;\n",
              "    display: none;\n",
              "    fill: var(--fill-color);\n",
              "    height: 32px;\n",
              "    padding: 0;\n",
              "    width: 32px;\n",
              "  }\n",
              "\n",
              "  .colab-df-quickchart:hover {\n",
              "    background-color: var(--hover-bg-color);\n",
              "    box-shadow: 0 1px 2px rgba(60, 64, 67, 0.3), 0 1px 3px 1px rgba(60, 64, 67, 0.15);\n",
              "    fill: var(--button-hover-fill-color);\n",
              "  }\n",
              "\n",
              "  .colab-df-quickchart-complete:disabled,\n",
              "  .colab-df-quickchart-complete:disabled:hover {\n",
              "    background-color: var(--disabled-bg-color);\n",
              "    fill: var(--disabled-fill-color);\n",
              "    box-shadow: none;\n",
              "  }\n",
              "\n",
              "  .colab-df-spinner {\n",
              "    border: 2px solid var(--fill-color);\n",
              "    border-color: transparent;\n",
              "    border-bottom-color: var(--fill-color);\n",
              "    animation:\n",
              "      spin 1s steps(1) infinite;\n",
              "  }\n",
              "\n",
              "  @keyframes spin {\n",
              "    0% {\n",
              "      border-color: transparent;\n",
              "      border-bottom-color: var(--fill-color);\n",
              "      border-left-color: var(--fill-color);\n",
              "    }\n",
              "    20% {\n",
              "      border-color: transparent;\n",
              "      border-left-color: var(--fill-color);\n",
              "      border-top-color: var(--fill-color);\n",
              "    }\n",
              "    30% {\n",
              "      border-color: transparent;\n",
              "      border-left-color: var(--fill-color);\n",
              "      border-top-color: var(--fill-color);\n",
              "      border-right-color: var(--fill-color);\n",
              "    }\n",
              "    40% {\n",
              "      border-color: transparent;\n",
              "      border-right-color: var(--fill-color);\n",
              "      border-top-color: var(--fill-color);\n",
              "    }\n",
              "    60% {\n",
              "      border-color: transparent;\n",
              "      border-right-color: var(--fill-color);\n",
              "    }\n",
              "    80% {\n",
              "      border-color: transparent;\n",
              "      border-right-color: var(--fill-color);\n",
              "      border-bottom-color: var(--fill-color);\n",
              "    }\n",
              "    90% {\n",
              "      border-color: transparent;\n",
              "      border-bottom-color: var(--fill-color);\n",
              "    }\n",
              "  }\n",
              "</style>\n",
              "\n",
              "  <script>\n",
              "    async function quickchart(key) {\n",
              "      const quickchartButtonEl =\n",
              "        document.querySelector('#' + key + ' button');\n",
              "      quickchartButtonEl.disabled = true;  // To prevent multiple clicks.\n",
              "      quickchartButtonEl.classList.add('colab-df-spinner');\n",
              "      try {\n",
              "        const charts = await google.colab.kernel.invokeFunction(\n",
              "            'suggestCharts', [key], {});\n",
              "      } catch (error) {\n",
              "        console.error('Error during call to suggestCharts:', error);\n",
              "      }\n",
              "      quickchartButtonEl.classList.remove('colab-df-spinner');\n",
              "      quickchartButtonEl.classList.add('colab-df-quickchart-complete');\n",
              "    }\n",
              "    (() => {\n",
              "      let quickchartButtonEl =\n",
              "        document.querySelector('#df-9e2e5fa3-41d0-4f83-9410-16f3fe03c052 button');\n",
              "      quickchartButtonEl.style.display =\n",
              "        google.colab.kernel.accessAllowed ? 'block' : 'none';\n",
              "    })();\n",
              "  </script>\n",
              "</div>\n",
              "    </div>\n",
              "  </div>\n"
            ]
          },
          "metadata": {},
          "execution_count": 71
        }
      ]
    },
    {
      "cell_type": "code",
      "source": [
        "df.isnull().sum()"
      ],
      "metadata": {
        "colab": {
          "base_uri": "https://localhost:8080/"
        },
        "id": "fsbCykRNOsKM",
        "outputId": "c563b4bb-b50c-453c-e83d-a061f06b0895"
      },
      "id": "fsbCykRNOsKM",
      "execution_count": null,
      "outputs": [
        {
          "output_type": "execute_result",
          "data": {
            "text/plain": [
              "Age                           0\n",
              "Gender                        0\n",
              "Total_Bilirubin               0\n",
              "Direct_Bilirubin              0\n",
              "Alkaline_Phosphotase          0\n",
              "Alamine_Aminotransferase      0\n",
              "Aspartate_Aminotransferase    0\n",
              "Total_Protiens                0\n",
              "Albumin                       0\n",
              "Albumin_and_Globulin_Ratio    0\n",
              "Dataset                       0\n",
              "dtype: int64"
            ]
          },
          "metadata": {},
          "execution_count": 72
        }
      ]
    },
    {
      "cell_type": "code",
      "source": [
        "# Memeriksa tipe data dari setiap kolom\n",
        "df.dtypes"
      ],
      "metadata": {
        "colab": {
          "base_uri": "https://localhost:8080/"
        },
        "id": "NdpxZ8jiOz0v",
        "outputId": "4dd9fdd4-34fe-4e34-c40c-e954199053bc"
      },
      "id": "NdpxZ8jiOz0v",
      "execution_count": null,
      "outputs": [
        {
          "output_type": "execute_result",
          "data": {
            "text/plain": [
              "Age                             int64\n",
              "Gender                         object\n",
              "Total_Bilirubin               float64\n",
              "Direct_Bilirubin              float64\n",
              "Alkaline_Phosphotase            int64\n",
              "Alamine_Aminotransferase        int64\n",
              "Aspartate_Aminotransferase      int64\n",
              "Total_Protiens                float64\n",
              "Albumin                       float64\n",
              "Albumin_and_Globulin_Ratio    float64\n",
              "Dataset                         int64\n",
              "dtype: object"
            ]
          },
          "metadata": {},
          "execution_count": 73
        }
      ]
    },
    {
      "cell_type": "code",
      "source": [
        "# Mengubah kolom Gender (jenis kelamin) menjadi angka, sehingga jenisnya berubah\n",
        "df.Gender = df.Gender.replace(['Male'],'3')\n",
        "df.Gender = df.Gender.replace(['Female'],'4')\n",
        "df.head(3)"
      ],
      "metadata": {
        "colab": {
          "base_uri": "https://localhost:8080/",
          "height": 163
        },
        "id": "JDFNqYYTPAfQ",
        "outputId": "a8e37b98-dad8-43ea-92b9-141a183a9c42"
      },
      "id": "JDFNqYYTPAfQ",
      "execution_count": null,
      "outputs": [
        {
          "output_type": "execute_result",
          "data": {
            "text/plain": [
              "   Age Gender  Total_Bilirubin  Direct_Bilirubin  Alkaline_Phosphotase  \\\n",
              "0   65      4              0.7               0.1                   187   \n",
              "1   62      3             10.9               5.5                   699   \n",
              "2   62      3              7.3               4.1                   490   \n",
              "\n",
              "   Alamine_Aminotransferase  Aspartate_Aminotransferase  Total_Protiens  \\\n",
              "0                        16                          18             6.8   \n",
              "1                        64                         100             7.5   \n",
              "2                        60                          68             7.0   \n",
              "\n",
              "   Albumin  Albumin_and_Globulin_Ratio  Dataset  \n",
              "0      3.3                        0.90        1  \n",
              "1      3.2                        0.74        1  \n",
              "2      3.3                        0.89        1  "
            ],
            "text/html": [
              "\n",
              "  <div id=\"df-d77f1743-72cd-47d5-8c22-510b10b41b3e\" class=\"colab-df-container\">\n",
              "    <div>\n",
              "<style scoped>\n",
              "    .dataframe tbody tr th:only-of-type {\n",
              "        vertical-align: middle;\n",
              "    }\n",
              "\n",
              "    .dataframe tbody tr th {\n",
              "        vertical-align: top;\n",
              "    }\n",
              "\n",
              "    .dataframe thead th {\n",
              "        text-align: right;\n",
              "    }\n",
              "</style>\n",
              "<table border=\"1\" class=\"dataframe\">\n",
              "  <thead>\n",
              "    <tr style=\"text-align: right;\">\n",
              "      <th></th>\n",
              "      <th>Age</th>\n",
              "      <th>Gender</th>\n",
              "      <th>Total_Bilirubin</th>\n",
              "      <th>Direct_Bilirubin</th>\n",
              "      <th>Alkaline_Phosphotase</th>\n",
              "      <th>Alamine_Aminotransferase</th>\n",
              "      <th>Aspartate_Aminotransferase</th>\n",
              "      <th>Total_Protiens</th>\n",
              "      <th>Albumin</th>\n",
              "      <th>Albumin_and_Globulin_Ratio</th>\n",
              "      <th>Dataset</th>\n",
              "    </tr>\n",
              "  </thead>\n",
              "  <tbody>\n",
              "    <tr>\n",
              "      <th>0</th>\n",
              "      <td>65</td>\n",
              "      <td>4</td>\n",
              "      <td>0.7</td>\n",
              "      <td>0.1</td>\n",
              "      <td>187</td>\n",
              "      <td>16</td>\n",
              "      <td>18</td>\n",
              "      <td>6.8</td>\n",
              "      <td>3.3</td>\n",
              "      <td>0.90</td>\n",
              "      <td>1</td>\n",
              "    </tr>\n",
              "    <tr>\n",
              "      <th>1</th>\n",
              "      <td>62</td>\n",
              "      <td>3</td>\n",
              "      <td>10.9</td>\n",
              "      <td>5.5</td>\n",
              "      <td>699</td>\n",
              "      <td>64</td>\n",
              "      <td>100</td>\n",
              "      <td>7.5</td>\n",
              "      <td>3.2</td>\n",
              "      <td>0.74</td>\n",
              "      <td>1</td>\n",
              "    </tr>\n",
              "    <tr>\n",
              "      <th>2</th>\n",
              "      <td>62</td>\n",
              "      <td>3</td>\n",
              "      <td>7.3</td>\n",
              "      <td>4.1</td>\n",
              "      <td>490</td>\n",
              "      <td>60</td>\n",
              "      <td>68</td>\n",
              "      <td>7.0</td>\n",
              "      <td>3.3</td>\n",
              "      <td>0.89</td>\n",
              "      <td>1</td>\n",
              "    </tr>\n",
              "  </tbody>\n",
              "</table>\n",
              "</div>\n",
              "    <div class=\"colab-df-buttons\">\n",
              "\n",
              "  <div class=\"colab-df-container\">\n",
              "    <button class=\"colab-df-convert\" onclick=\"convertToInteractive('df-d77f1743-72cd-47d5-8c22-510b10b41b3e')\"\n",
              "            title=\"Convert this dataframe to an interactive table.\"\n",
              "            style=\"display:none;\">\n",
              "\n",
              "  <svg xmlns=\"http://www.w3.org/2000/svg\" height=\"24px\" viewBox=\"0 -960 960 960\">\n",
              "    <path d=\"M120-120v-720h720v720H120Zm60-500h600v-160H180v160Zm220 220h160v-160H400v160Zm0 220h160v-160H400v160ZM180-400h160v-160H180v160Zm440 0h160v-160H620v160ZM180-180h160v-160H180v160Zm440 0h160v-160H620v160Z\"/>\n",
              "  </svg>\n",
              "    </button>\n",
              "\n",
              "  <style>\n",
              "    .colab-df-container {\n",
              "      display:flex;\n",
              "      gap: 12px;\n",
              "    }\n",
              "\n",
              "    .colab-df-convert {\n",
              "      background-color: #E8F0FE;\n",
              "      border: none;\n",
              "      border-radius: 50%;\n",
              "      cursor: pointer;\n",
              "      display: none;\n",
              "      fill: #1967D2;\n",
              "      height: 32px;\n",
              "      padding: 0 0 0 0;\n",
              "      width: 32px;\n",
              "    }\n",
              "\n",
              "    .colab-df-convert:hover {\n",
              "      background-color: #E2EBFA;\n",
              "      box-shadow: 0px 1px 2px rgba(60, 64, 67, 0.3), 0px 1px 3px 1px rgba(60, 64, 67, 0.15);\n",
              "      fill: #174EA6;\n",
              "    }\n",
              "\n",
              "    .colab-df-buttons div {\n",
              "      margin-bottom: 4px;\n",
              "    }\n",
              "\n",
              "    [theme=dark] .colab-df-convert {\n",
              "      background-color: #3B4455;\n",
              "      fill: #D2E3FC;\n",
              "    }\n",
              "\n",
              "    [theme=dark] .colab-df-convert:hover {\n",
              "      background-color: #434B5C;\n",
              "      box-shadow: 0px 1px 3px 1px rgba(0, 0, 0, 0.15);\n",
              "      filter: drop-shadow(0px 1px 2px rgba(0, 0, 0, 0.3));\n",
              "      fill: #FFFFFF;\n",
              "    }\n",
              "  </style>\n",
              "\n",
              "    <script>\n",
              "      const buttonEl =\n",
              "        document.querySelector('#df-d77f1743-72cd-47d5-8c22-510b10b41b3e button.colab-df-convert');\n",
              "      buttonEl.style.display =\n",
              "        google.colab.kernel.accessAllowed ? 'block' : 'none';\n",
              "\n",
              "      async function convertToInteractive(key) {\n",
              "        const element = document.querySelector('#df-d77f1743-72cd-47d5-8c22-510b10b41b3e');\n",
              "        const dataTable =\n",
              "          await google.colab.kernel.invokeFunction('convertToInteractive',\n",
              "                                                    [key], {});\n",
              "        if (!dataTable) return;\n",
              "\n",
              "        const docLinkHtml = 'Like what you see? Visit the ' +\n",
              "          '<a target=\"_blank\" href=https://colab.research.google.com/notebooks/data_table.ipynb>data table notebook</a>'\n",
              "          + ' to learn more about interactive tables.';\n",
              "        element.innerHTML = '';\n",
              "        dataTable['output_type'] = 'display_data';\n",
              "        await google.colab.output.renderOutput(dataTable, element);\n",
              "        const docLink = document.createElement('div');\n",
              "        docLink.innerHTML = docLinkHtml;\n",
              "        element.appendChild(docLink);\n",
              "      }\n",
              "    </script>\n",
              "  </div>\n",
              "\n",
              "\n",
              "<div id=\"df-f45a1f80-8f07-41cf-9f6e-d5942a5e0913\">\n",
              "  <button class=\"colab-df-quickchart\" onclick=\"quickchart('df-f45a1f80-8f07-41cf-9f6e-d5942a5e0913')\"\n",
              "            title=\"Suggest charts\"\n",
              "            style=\"display:none;\">\n",
              "\n",
              "<svg xmlns=\"http://www.w3.org/2000/svg\" height=\"24px\"viewBox=\"0 0 24 24\"\n",
              "     width=\"24px\">\n",
              "    <g>\n",
              "        <path d=\"M19 3H5c-1.1 0-2 .9-2 2v14c0 1.1.9 2 2 2h14c1.1 0 2-.9 2-2V5c0-1.1-.9-2-2-2zM9 17H7v-7h2v7zm4 0h-2V7h2v10zm4 0h-2v-4h2v4z\"/>\n",
              "    </g>\n",
              "</svg>\n",
              "  </button>\n",
              "\n",
              "<style>\n",
              "  .colab-df-quickchart {\n",
              "      --bg-color: #E8F0FE;\n",
              "      --fill-color: #1967D2;\n",
              "      --hover-bg-color: #E2EBFA;\n",
              "      --hover-fill-color: #174EA6;\n",
              "      --disabled-fill-color: #AAA;\n",
              "      --disabled-bg-color: #DDD;\n",
              "  }\n",
              "\n",
              "  [theme=dark] .colab-df-quickchart {\n",
              "      --bg-color: #3B4455;\n",
              "      --fill-color: #D2E3FC;\n",
              "      --hover-bg-color: #434B5C;\n",
              "      --hover-fill-color: #FFFFFF;\n",
              "      --disabled-bg-color: #3B4455;\n",
              "      --disabled-fill-color: #666;\n",
              "  }\n",
              "\n",
              "  .colab-df-quickchart {\n",
              "    background-color: var(--bg-color);\n",
              "    border: none;\n",
              "    border-radius: 50%;\n",
              "    cursor: pointer;\n",
              "    display: none;\n",
              "    fill: var(--fill-color);\n",
              "    height: 32px;\n",
              "    padding: 0;\n",
              "    width: 32px;\n",
              "  }\n",
              "\n",
              "  .colab-df-quickchart:hover {\n",
              "    background-color: var(--hover-bg-color);\n",
              "    box-shadow: 0 1px 2px rgba(60, 64, 67, 0.3), 0 1px 3px 1px rgba(60, 64, 67, 0.15);\n",
              "    fill: var(--button-hover-fill-color);\n",
              "  }\n",
              "\n",
              "  .colab-df-quickchart-complete:disabled,\n",
              "  .colab-df-quickchart-complete:disabled:hover {\n",
              "    background-color: var(--disabled-bg-color);\n",
              "    fill: var(--disabled-fill-color);\n",
              "    box-shadow: none;\n",
              "  }\n",
              "\n",
              "  .colab-df-spinner {\n",
              "    border: 2px solid var(--fill-color);\n",
              "    border-color: transparent;\n",
              "    border-bottom-color: var(--fill-color);\n",
              "    animation:\n",
              "      spin 1s steps(1) infinite;\n",
              "  }\n",
              "\n",
              "  @keyframes spin {\n",
              "    0% {\n",
              "      border-color: transparent;\n",
              "      border-bottom-color: var(--fill-color);\n",
              "      border-left-color: var(--fill-color);\n",
              "    }\n",
              "    20% {\n",
              "      border-color: transparent;\n",
              "      border-left-color: var(--fill-color);\n",
              "      border-top-color: var(--fill-color);\n",
              "    }\n",
              "    30% {\n",
              "      border-color: transparent;\n",
              "      border-left-color: var(--fill-color);\n",
              "      border-top-color: var(--fill-color);\n",
              "      border-right-color: var(--fill-color);\n",
              "    }\n",
              "    40% {\n",
              "      border-color: transparent;\n",
              "      border-right-color: var(--fill-color);\n",
              "      border-top-color: var(--fill-color);\n",
              "    }\n",
              "    60% {\n",
              "      border-color: transparent;\n",
              "      border-right-color: var(--fill-color);\n",
              "    }\n",
              "    80% {\n",
              "      border-color: transparent;\n",
              "      border-right-color: var(--fill-color);\n",
              "      border-bottom-color: var(--fill-color);\n",
              "    }\n",
              "    90% {\n",
              "      border-color: transparent;\n",
              "      border-bottom-color: var(--fill-color);\n",
              "    }\n",
              "  }\n",
              "</style>\n",
              "\n",
              "  <script>\n",
              "    async function quickchart(key) {\n",
              "      const quickchartButtonEl =\n",
              "        document.querySelector('#' + key + ' button');\n",
              "      quickchartButtonEl.disabled = true;  // To prevent multiple clicks.\n",
              "      quickchartButtonEl.classList.add('colab-df-spinner');\n",
              "      try {\n",
              "        const charts = await google.colab.kernel.invokeFunction(\n",
              "            'suggestCharts', [key], {});\n",
              "      } catch (error) {\n",
              "        console.error('Error during call to suggestCharts:', error);\n",
              "      }\n",
              "      quickchartButtonEl.classList.remove('colab-df-spinner');\n",
              "      quickchartButtonEl.classList.add('colab-df-quickchart-complete');\n",
              "    }\n",
              "    (() => {\n",
              "      let quickchartButtonEl =\n",
              "        document.querySelector('#df-f45a1f80-8f07-41cf-9f6e-d5942a5e0913 button');\n",
              "      quickchartButtonEl.style.display =\n",
              "        google.colab.kernel.accessAllowed ? 'block' : 'none';\n",
              "    })();\n",
              "  </script>\n",
              "</div>\n",
              "    </div>\n",
              "  </div>\n"
            ]
          },
          "metadata": {},
          "execution_count": 74
        }
      ]
    },
    {
      "cell_type": "code",
      "source": [
        "df.dtypes"
      ],
      "metadata": {
        "colab": {
          "base_uri": "https://localhost:8080/"
        },
        "id": "LqR2CaCHQZ8R",
        "outputId": "759fa4be-33df-4307-c567-58267a8b2fac"
      },
      "id": "LqR2CaCHQZ8R",
      "execution_count": null,
      "outputs": [
        {
          "output_type": "execute_result",
          "data": {
            "text/plain": [
              "Age                             int64\n",
              "Gender                         object\n",
              "Total_Bilirubin               float64\n",
              "Direct_Bilirubin              float64\n",
              "Alkaline_Phosphotase            int64\n",
              "Alamine_Aminotransferase        int64\n",
              "Aspartate_Aminotransferase      int64\n",
              "Total_Protiens                float64\n",
              "Albumin                       float64\n",
              "Albumin_and_Globulin_Ratio    float64\n",
              "Dataset                         int64\n",
              "dtype: object"
            ]
          },
          "metadata": {},
          "execution_count": 75
        }
      ]
    },
    {
      "cell_type": "code",
      "source": [
        "# Mengubah tipe data Gender (jenis kelamin)\n",
        "df.Gender = df.Gender.astype('int64')\n",
        "df.dtypes"
      ],
      "metadata": {
        "colab": {
          "base_uri": "https://localhost:8080/"
        },
        "id": "6KzqlefgQdPq",
        "outputId": "bcd16bb8-be3b-48b2-9ccf-be4282cf46c3"
      },
      "id": "6KzqlefgQdPq",
      "execution_count": null,
      "outputs": [
        {
          "output_type": "execute_result",
          "data": {
            "text/plain": [
              "Age                             int64\n",
              "Gender                          int64\n",
              "Total_Bilirubin               float64\n",
              "Direct_Bilirubin              float64\n",
              "Alkaline_Phosphotase            int64\n",
              "Alamine_Aminotransferase        int64\n",
              "Aspartate_Aminotransferase      int64\n",
              "Total_Protiens                float64\n",
              "Albumin                       float64\n",
              "Albumin_and_Globulin_Ratio    float64\n",
              "Dataset                         int64\n",
              "dtype: object"
            ]
          },
          "metadata": {},
          "execution_count": 76
        }
      ]
    },
    {
      "cell_type": "code",
      "source": [
        "df.Dataset.value_counts()"
      ],
      "metadata": {
        "colab": {
          "base_uri": "https://localhost:8080/"
        },
        "id": "J4d1_-X5Qzdi",
        "outputId": "bf9cdf94-7cfa-47a1-a351-c349f53494d0"
      },
      "id": "J4d1_-X5Qzdi",
      "execution_count": null,
      "outputs": [
        {
          "output_type": "execute_result",
          "data": {
            "text/plain": [
              "1    416\n",
              "2    167\n",
              "Name: Dataset, dtype: int64"
            ]
          },
          "metadata": {},
          "execution_count": 77
        }
      ]
    },
    {
      "cell_type": "markdown",
      "source": [
        "Dataset berisi Jumlah Pasien Hati yang lebih tinggi (1 = terkena penyakit dan 2 = sehat)"
      ],
      "metadata": {
        "id": "jqFaFrc-RBS6"
      },
      "id": "jqFaFrc-RBS6"
    },
    {
      "cell_type": "code",
      "source": [
        "df.corr()"
      ],
      "metadata": {
        "colab": {
          "base_uri": "https://localhost:8080/",
          "height": 414
        },
        "id": "zzGySXunR8Tf",
        "outputId": "c35a3b83-dd48-4cba-edb4-26566cf90127"
      },
      "id": "zzGySXunR8Tf",
      "execution_count": null,
      "outputs": [
        {
          "output_type": "execute_result",
          "data": {
            "text/plain": [
              "                                 Age    Gender  Total_Bilirubin  \\\n",
              "Age                         1.000000 -0.056560         0.011763   \n",
              "Gender                     -0.056560  1.000000        -0.089291   \n",
              "Total_Bilirubin             0.011763 -0.089291         1.000000   \n",
              "Direct_Bilirubin            0.007529 -0.100436         0.874618   \n",
              "Alkaline_Phosphotase        0.080425  0.027496         0.206669   \n",
              "Alamine_Aminotransferase   -0.086883 -0.082332         0.214065   \n",
              "Aspartate_Aminotransferase -0.019910 -0.080336         0.237831   \n",
              "Total_Protiens             -0.187461  0.089121        -0.008099   \n",
              "Albumin                    -0.265924  0.093799        -0.222250   \n",
              "Albumin_and_Globulin_Ratio -0.216089  0.003404        -0.206159   \n",
              "Dataset                    -0.137351  0.082416        -0.220208   \n",
              "\n",
              "                            Direct_Bilirubin  Alkaline_Phosphotase  \\\n",
              "Age                                 0.007529              0.080425   \n",
              "Gender                             -0.100436              0.027496   \n",
              "Total_Bilirubin                     0.874618              0.206669   \n",
              "Direct_Bilirubin                    1.000000              0.234939   \n",
              "Alkaline_Phosphotase                0.234939              1.000000   \n",
              "Alamine_Aminotransferase            0.233894              0.125680   \n",
              "Aspartate_Aminotransferase          0.257544              0.167196   \n",
              "Total_Protiens                     -0.000139             -0.028514   \n",
              "Albumin                            -0.228531             -0.165453   \n",
              "Albumin_and_Globulin_Ratio         -0.200004             -0.233960   \n",
              "Dataset                            -0.246046             -0.184866   \n",
              "\n",
              "                            Alamine_Aminotransferase  \\\n",
              "Age                                        -0.086883   \n",
              "Gender                                     -0.082332   \n",
              "Total_Bilirubin                             0.214065   \n",
              "Direct_Bilirubin                            0.233894   \n",
              "Alkaline_Phosphotase                        0.125680   \n",
              "Alamine_Aminotransferase                    1.000000   \n",
              "Aspartate_Aminotransferase                  0.791966   \n",
              "Total_Protiens                             -0.042518   \n",
              "Albumin                                    -0.029742   \n",
              "Albumin_and_Globulin_Ratio                 -0.002374   \n",
              "Dataset                                    -0.163416   \n",
              "\n",
              "                            Aspartate_Aminotransferase  Total_Protiens  \\\n",
              "Age                                          -0.019910       -0.187461   \n",
              "Gender                                       -0.080336        0.089121   \n",
              "Total_Bilirubin                               0.237831       -0.008099   \n",
              "Direct_Bilirubin                              0.257544       -0.000139   \n",
              "Alkaline_Phosphotase                          0.167196       -0.028514   \n",
              "Alamine_Aminotransferase                      0.791966       -0.042518   \n",
              "Aspartate_Aminotransferase                    1.000000       -0.025645   \n",
              "Total_Protiens                               -0.025645        1.000000   \n",
              "Albumin                                      -0.085290        0.784053   \n",
              "Albumin_and_Globulin_Ratio                   -0.070024        0.233904   \n",
              "Dataset                                      -0.151934        0.035008   \n",
              "\n",
              "                             Albumin  Albumin_and_Globulin_Ratio   Dataset  \n",
              "Age                        -0.265924                   -0.216089 -0.137351  \n",
              "Gender                      0.093799                    0.003404  0.082416  \n",
              "Total_Bilirubin            -0.222250                   -0.206159 -0.220208  \n",
              "Direct_Bilirubin           -0.228531                   -0.200004 -0.246046  \n",
              "Alkaline_Phosphotase       -0.165453                   -0.233960 -0.184866  \n",
              "Alamine_Aminotransferase   -0.029742                   -0.002374 -0.163416  \n",
              "Aspartate_Aminotransferase -0.085290                   -0.070024 -0.151934  \n",
              "Total_Protiens              0.784053                    0.233904  0.035008  \n",
              "Albumin                     1.000000                    0.686322  0.161388  \n",
              "Albumin_and_Globulin_Ratio  0.686322                    1.000000  0.162319  \n",
              "Dataset                     0.161388                    0.162319  1.000000  "
            ],
            "text/html": [
              "\n",
              "  <div id=\"df-62d8e418-8800-4ea0-8ef6-b65c869c8dc0\" class=\"colab-df-container\">\n",
              "    <div>\n",
              "<style scoped>\n",
              "    .dataframe tbody tr th:only-of-type {\n",
              "        vertical-align: middle;\n",
              "    }\n",
              "\n",
              "    .dataframe tbody tr th {\n",
              "        vertical-align: top;\n",
              "    }\n",
              "\n",
              "    .dataframe thead th {\n",
              "        text-align: right;\n",
              "    }\n",
              "</style>\n",
              "<table border=\"1\" class=\"dataframe\">\n",
              "  <thead>\n",
              "    <tr style=\"text-align: right;\">\n",
              "      <th></th>\n",
              "      <th>Age</th>\n",
              "      <th>Gender</th>\n",
              "      <th>Total_Bilirubin</th>\n",
              "      <th>Direct_Bilirubin</th>\n",
              "      <th>Alkaline_Phosphotase</th>\n",
              "      <th>Alamine_Aminotransferase</th>\n",
              "      <th>Aspartate_Aminotransferase</th>\n",
              "      <th>Total_Protiens</th>\n",
              "      <th>Albumin</th>\n",
              "      <th>Albumin_and_Globulin_Ratio</th>\n",
              "      <th>Dataset</th>\n",
              "    </tr>\n",
              "  </thead>\n",
              "  <tbody>\n",
              "    <tr>\n",
              "      <th>Age</th>\n",
              "      <td>1.000000</td>\n",
              "      <td>-0.056560</td>\n",
              "      <td>0.011763</td>\n",
              "      <td>0.007529</td>\n",
              "      <td>0.080425</td>\n",
              "      <td>-0.086883</td>\n",
              "      <td>-0.019910</td>\n",
              "      <td>-0.187461</td>\n",
              "      <td>-0.265924</td>\n",
              "      <td>-0.216089</td>\n",
              "      <td>-0.137351</td>\n",
              "    </tr>\n",
              "    <tr>\n",
              "      <th>Gender</th>\n",
              "      <td>-0.056560</td>\n",
              "      <td>1.000000</td>\n",
              "      <td>-0.089291</td>\n",
              "      <td>-0.100436</td>\n",
              "      <td>0.027496</td>\n",
              "      <td>-0.082332</td>\n",
              "      <td>-0.080336</td>\n",
              "      <td>0.089121</td>\n",
              "      <td>0.093799</td>\n",
              "      <td>0.003404</td>\n",
              "      <td>0.082416</td>\n",
              "    </tr>\n",
              "    <tr>\n",
              "      <th>Total_Bilirubin</th>\n",
              "      <td>0.011763</td>\n",
              "      <td>-0.089291</td>\n",
              "      <td>1.000000</td>\n",
              "      <td>0.874618</td>\n",
              "      <td>0.206669</td>\n",
              "      <td>0.214065</td>\n",
              "      <td>0.237831</td>\n",
              "      <td>-0.008099</td>\n",
              "      <td>-0.222250</td>\n",
              "      <td>-0.206159</td>\n",
              "      <td>-0.220208</td>\n",
              "    </tr>\n",
              "    <tr>\n",
              "      <th>Direct_Bilirubin</th>\n",
              "      <td>0.007529</td>\n",
              "      <td>-0.100436</td>\n",
              "      <td>0.874618</td>\n",
              "      <td>1.000000</td>\n",
              "      <td>0.234939</td>\n",
              "      <td>0.233894</td>\n",
              "      <td>0.257544</td>\n",
              "      <td>-0.000139</td>\n",
              "      <td>-0.228531</td>\n",
              "      <td>-0.200004</td>\n",
              "      <td>-0.246046</td>\n",
              "    </tr>\n",
              "    <tr>\n",
              "      <th>Alkaline_Phosphotase</th>\n",
              "      <td>0.080425</td>\n",
              "      <td>0.027496</td>\n",
              "      <td>0.206669</td>\n",
              "      <td>0.234939</td>\n",
              "      <td>1.000000</td>\n",
              "      <td>0.125680</td>\n",
              "      <td>0.167196</td>\n",
              "      <td>-0.028514</td>\n",
              "      <td>-0.165453</td>\n",
              "      <td>-0.233960</td>\n",
              "      <td>-0.184866</td>\n",
              "    </tr>\n",
              "    <tr>\n",
              "      <th>Alamine_Aminotransferase</th>\n",
              "      <td>-0.086883</td>\n",
              "      <td>-0.082332</td>\n",
              "      <td>0.214065</td>\n",
              "      <td>0.233894</td>\n",
              "      <td>0.125680</td>\n",
              "      <td>1.000000</td>\n",
              "      <td>0.791966</td>\n",
              "      <td>-0.042518</td>\n",
              "      <td>-0.029742</td>\n",
              "      <td>-0.002374</td>\n",
              "      <td>-0.163416</td>\n",
              "    </tr>\n",
              "    <tr>\n",
              "      <th>Aspartate_Aminotransferase</th>\n",
              "      <td>-0.019910</td>\n",
              "      <td>-0.080336</td>\n",
              "      <td>0.237831</td>\n",
              "      <td>0.257544</td>\n",
              "      <td>0.167196</td>\n",
              "      <td>0.791966</td>\n",
              "      <td>1.000000</td>\n",
              "      <td>-0.025645</td>\n",
              "      <td>-0.085290</td>\n",
              "      <td>-0.070024</td>\n",
              "      <td>-0.151934</td>\n",
              "    </tr>\n",
              "    <tr>\n",
              "      <th>Total_Protiens</th>\n",
              "      <td>-0.187461</td>\n",
              "      <td>0.089121</td>\n",
              "      <td>-0.008099</td>\n",
              "      <td>-0.000139</td>\n",
              "      <td>-0.028514</td>\n",
              "      <td>-0.042518</td>\n",
              "      <td>-0.025645</td>\n",
              "      <td>1.000000</td>\n",
              "      <td>0.784053</td>\n",
              "      <td>0.233904</td>\n",
              "      <td>0.035008</td>\n",
              "    </tr>\n",
              "    <tr>\n",
              "      <th>Albumin</th>\n",
              "      <td>-0.265924</td>\n",
              "      <td>0.093799</td>\n",
              "      <td>-0.222250</td>\n",
              "      <td>-0.228531</td>\n",
              "      <td>-0.165453</td>\n",
              "      <td>-0.029742</td>\n",
              "      <td>-0.085290</td>\n",
              "      <td>0.784053</td>\n",
              "      <td>1.000000</td>\n",
              "      <td>0.686322</td>\n",
              "      <td>0.161388</td>\n",
              "    </tr>\n",
              "    <tr>\n",
              "      <th>Albumin_and_Globulin_Ratio</th>\n",
              "      <td>-0.216089</td>\n",
              "      <td>0.003404</td>\n",
              "      <td>-0.206159</td>\n",
              "      <td>-0.200004</td>\n",
              "      <td>-0.233960</td>\n",
              "      <td>-0.002374</td>\n",
              "      <td>-0.070024</td>\n",
              "      <td>0.233904</td>\n",
              "      <td>0.686322</td>\n",
              "      <td>1.000000</td>\n",
              "      <td>0.162319</td>\n",
              "    </tr>\n",
              "    <tr>\n",
              "      <th>Dataset</th>\n",
              "      <td>-0.137351</td>\n",
              "      <td>0.082416</td>\n",
              "      <td>-0.220208</td>\n",
              "      <td>-0.246046</td>\n",
              "      <td>-0.184866</td>\n",
              "      <td>-0.163416</td>\n",
              "      <td>-0.151934</td>\n",
              "      <td>0.035008</td>\n",
              "      <td>0.161388</td>\n",
              "      <td>0.162319</td>\n",
              "      <td>1.000000</td>\n",
              "    </tr>\n",
              "  </tbody>\n",
              "</table>\n",
              "</div>\n",
              "    <div class=\"colab-df-buttons\">\n",
              "\n",
              "  <div class=\"colab-df-container\">\n",
              "    <button class=\"colab-df-convert\" onclick=\"convertToInteractive('df-62d8e418-8800-4ea0-8ef6-b65c869c8dc0')\"\n",
              "            title=\"Convert this dataframe to an interactive table.\"\n",
              "            style=\"display:none;\">\n",
              "\n",
              "  <svg xmlns=\"http://www.w3.org/2000/svg\" height=\"24px\" viewBox=\"0 -960 960 960\">\n",
              "    <path d=\"M120-120v-720h720v720H120Zm60-500h600v-160H180v160Zm220 220h160v-160H400v160Zm0 220h160v-160H400v160ZM180-400h160v-160H180v160Zm440 0h160v-160H620v160ZM180-180h160v-160H180v160Zm440 0h160v-160H620v160Z\"/>\n",
              "  </svg>\n",
              "    </button>\n",
              "\n",
              "  <style>\n",
              "    .colab-df-container {\n",
              "      display:flex;\n",
              "      gap: 12px;\n",
              "    }\n",
              "\n",
              "    .colab-df-convert {\n",
              "      background-color: #E8F0FE;\n",
              "      border: none;\n",
              "      border-radius: 50%;\n",
              "      cursor: pointer;\n",
              "      display: none;\n",
              "      fill: #1967D2;\n",
              "      height: 32px;\n",
              "      padding: 0 0 0 0;\n",
              "      width: 32px;\n",
              "    }\n",
              "\n",
              "    .colab-df-convert:hover {\n",
              "      background-color: #E2EBFA;\n",
              "      box-shadow: 0px 1px 2px rgba(60, 64, 67, 0.3), 0px 1px 3px 1px rgba(60, 64, 67, 0.15);\n",
              "      fill: #174EA6;\n",
              "    }\n",
              "\n",
              "    .colab-df-buttons div {\n",
              "      margin-bottom: 4px;\n",
              "    }\n",
              "\n",
              "    [theme=dark] .colab-df-convert {\n",
              "      background-color: #3B4455;\n",
              "      fill: #D2E3FC;\n",
              "    }\n",
              "\n",
              "    [theme=dark] .colab-df-convert:hover {\n",
              "      background-color: #434B5C;\n",
              "      box-shadow: 0px 1px 3px 1px rgba(0, 0, 0, 0.15);\n",
              "      filter: drop-shadow(0px 1px 2px rgba(0, 0, 0, 0.3));\n",
              "      fill: #FFFFFF;\n",
              "    }\n",
              "  </style>\n",
              "\n",
              "    <script>\n",
              "      const buttonEl =\n",
              "        document.querySelector('#df-62d8e418-8800-4ea0-8ef6-b65c869c8dc0 button.colab-df-convert');\n",
              "      buttonEl.style.display =\n",
              "        google.colab.kernel.accessAllowed ? 'block' : 'none';\n",
              "\n",
              "      async function convertToInteractive(key) {\n",
              "        const element = document.querySelector('#df-62d8e418-8800-4ea0-8ef6-b65c869c8dc0');\n",
              "        const dataTable =\n",
              "          await google.colab.kernel.invokeFunction('convertToInteractive',\n",
              "                                                    [key], {});\n",
              "        if (!dataTable) return;\n",
              "\n",
              "        const docLinkHtml = 'Like what you see? Visit the ' +\n",
              "          '<a target=\"_blank\" href=https://colab.research.google.com/notebooks/data_table.ipynb>data table notebook</a>'\n",
              "          + ' to learn more about interactive tables.';\n",
              "        element.innerHTML = '';\n",
              "        dataTable['output_type'] = 'display_data';\n",
              "        await google.colab.output.renderOutput(dataTable, element);\n",
              "        const docLink = document.createElement('div');\n",
              "        docLink.innerHTML = docLinkHtml;\n",
              "        element.appendChild(docLink);\n",
              "      }\n",
              "    </script>\n",
              "  </div>\n",
              "\n",
              "\n",
              "<div id=\"df-6ea70683-8476-4089-a7a1-48a335bd4480\">\n",
              "  <button class=\"colab-df-quickchart\" onclick=\"quickchart('df-6ea70683-8476-4089-a7a1-48a335bd4480')\"\n",
              "            title=\"Suggest charts\"\n",
              "            style=\"display:none;\">\n",
              "\n",
              "<svg xmlns=\"http://www.w3.org/2000/svg\" height=\"24px\"viewBox=\"0 0 24 24\"\n",
              "     width=\"24px\">\n",
              "    <g>\n",
              "        <path d=\"M19 3H5c-1.1 0-2 .9-2 2v14c0 1.1.9 2 2 2h14c1.1 0 2-.9 2-2V5c0-1.1-.9-2-2-2zM9 17H7v-7h2v7zm4 0h-2V7h2v10zm4 0h-2v-4h2v4z\"/>\n",
              "    </g>\n",
              "</svg>\n",
              "  </button>\n",
              "\n",
              "<style>\n",
              "  .colab-df-quickchart {\n",
              "      --bg-color: #E8F0FE;\n",
              "      --fill-color: #1967D2;\n",
              "      --hover-bg-color: #E2EBFA;\n",
              "      --hover-fill-color: #174EA6;\n",
              "      --disabled-fill-color: #AAA;\n",
              "      --disabled-bg-color: #DDD;\n",
              "  }\n",
              "\n",
              "  [theme=dark] .colab-df-quickchart {\n",
              "      --bg-color: #3B4455;\n",
              "      --fill-color: #D2E3FC;\n",
              "      --hover-bg-color: #434B5C;\n",
              "      --hover-fill-color: #FFFFFF;\n",
              "      --disabled-bg-color: #3B4455;\n",
              "      --disabled-fill-color: #666;\n",
              "  }\n",
              "\n",
              "  .colab-df-quickchart {\n",
              "    background-color: var(--bg-color);\n",
              "    border: none;\n",
              "    border-radius: 50%;\n",
              "    cursor: pointer;\n",
              "    display: none;\n",
              "    fill: var(--fill-color);\n",
              "    height: 32px;\n",
              "    padding: 0;\n",
              "    width: 32px;\n",
              "  }\n",
              "\n",
              "  .colab-df-quickchart:hover {\n",
              "    background-color: var(--hover-bg-color);\n",
              "    box-shadow: 0 1px 2px rgba(60, 64, 67, 0.3), 0 1px 3px 1px rgba(60, 64, 67, 0.15);\n",
              "    fill: var(--button-hover-fill-color);\n",
              "  }\n",
              "\n",
              "  .colab-df-quickchart-complete:disabled,\n",
              "  .colab-df-quickchart-complete:disabled:hover {\n",
              "    background-color: var(--disabled-bg-color);\n",
              "    fill: var(--disabled-fill-color);\n",
              "    box-shadow: none;\n",
              "  }\n",
              "\n",
              "  .colab-df-spinner {\n",
              "    border: 2px solid var(--fill-color);\n",
              "    border-color: transparent;\n",
              "    border-bottom-color: var(--fill-color);\n",
              "    animation:\n",
              "      spin 1s steps(1) infinite;\n",
              "  }\n",
              "\n",
              "  @keyframes spin {\n",
              "    0% {\n",
              "      border-color: transparent;\n",
              "      border-bottom-color: var(--fill-color);\n",
              "      border-left-color: var(--fill-color);\n",
              "    }\n",
              "    20% {\n",
              "      border-color: transparent;\n",
              "      border-left-color: var(--fill-color);\n",
              "      border-top-color: var(--fill-color);\n",
              "    }\n",
              "    30% {\n",
              "      border-color: transparent;\n",
              "      border-left-color: var(--fill-color);\n",
              "      border-top-color: var(--fill-color);\n",
              "      border-right-color: var(--fill-color);\n",
              "    }\n",
              "    40% {\n",
              "      border-color: transparent;\n",
              "      border-right-color: var(--fill-color);\n",
              "      border-top-color: var(--fill-color);\n",
              "    }\n",
              "    60% {\n",
              "      border-color: transparent;\n",
              "      border-right-color: var(--fill-color);\n",
              "    }\n",
              "    80% {\n",
              "      border-color: transparent;\n",
              "      border-right-color: var(--fill-color);\n",
              "      border-bottom-color: var(--fill-color);\n",
              "    }\n",
              "    90% {\n",
              "      border-color: transparent;\n",
              "      border-bottom-color: var(--fill-color);\n",
              "    }\n",
              "  }\n",
              "</style>\n",
              "\n",
              "  <script>\n",
              "    async function quickchart(key) {\n",
              "      const quickchartButtonEl =\n",
              "        document.querySelector('#' + key + ' button');\n",
              "      quickchartButtonEl.disabled = true;  // To prevent multiple clicks.\n",
              "      quickchartButtonEl.classList.add('colab-df-spinner');\n",
              "      try {\n",
              "        const charts = await google.colab.kernel.invokeFunction(\n",
              "            'suggestCharts', [key], {});\n",
              "      } catch (error) {\n",
              "        console.error('Error during call to suggestCharts:', error);\n",
              "      }\n",
              "      quickchartButtonEl.classList.remove('colab-df-spinner');\n",
              "      quickchartButtonEl.classList.add('colab-df-quickchart-complete');\n",
              "    }\n",
              "    (() => {\n",
              "      let quickchartButtonEl =\n",
              "        document.querySelector('#df-6ea70683-8476-4089-a7a1-48a335bd4480 button');\n",
              "      quickchartButtonEl.style.display =\n",
              "        google.colab.kernel.accessAllowed ? 'block' : 'none';\n",
              "    })();\n",
              "  </script>\n",
              "</div>\n",
              "    </div>\n",
              "  </div>\n"
            ]
          },
          "metadata": {},
          "execution_count": 78
        }
      ]
    },
    {
      "cell_type": "code",
      "source": [
        "# Heatmap\n",
        "plt.figure(figsize=(10,7))\n",
        "\n",
        "sns.heatmap(df.corr(),annot=True)"
      ],
      "metadata": {
        "colab": {
          "base_uri": "https://localhost:8080/",
          "height": 807
        },
        "id": "QsnwV1baSYSF",
        "outputId": "d4b02248-3bde-458e-999b-455b848f1f75"
      },
      "id": "QsnwV1baSYSF",
      "execution_count": null,
      "outputs": [
        {
          "output_type": "execute_result",
          "data": {
            "text/plain": [
              "<Axes: >"
            ]
          },
          "metadata": {},
          "execution_count": 79
        },
        {
          "output_type": "display_data",
          "data": {
            "text/plain": [
              "<Figure size 1000x700 with 2 Axes>"
            ],
            "image/png": "[encoded data removed]"
          },
          "metadata": {}
        }
      ]
    },
    {
      "cell_type": "markdown",
      "source": [
        "Dari heatmap Direct_Bilirubin & Total_Bilirubin, Alanine_Aminotransferase & Aspartate_Aminotransferase, Albumin & Total_Protiens adalah fitur yang sangat berkorelasi"
      ],
      "metadata": {
        "id": "crw8JPF_SdSH"
      },
      "id": "crw8JPF_SdSH"
    },
    {
      "cell_type": "code",
      "source": [
        "df.corr().Dataset"
      ],
      "metadata": {
        "colab": {
          "base_uri": "https://localhost:8080/"
        },
        "id": "moVYtq-lS9Io",
        "outputId": "2c63e53e-5b71-46c3-dfa4-a37304592f90"
      },
      "id": "moVYtq-lS9Io",
      "execution_count": null,
      "outputs": [
        {
          "output_type": "execute_result",
          "data": {
            "text/plain": [
              "Age                          -0.137351\n",
              "Gender                        0.082416\n",
              "Total_Bilirubin              -0.220208\n",
              "Direct_Bilirubin             -0.246046\n",
              "Alkaline_Phosphotase         -0.184866\n",
              "Alamine_Aminotransferase     -0.163416\n",
              "Aspartate_Aminotransferase   -0.151934\n",
              "Total_Protiens                0.035008\n",
              "Albumin                       0.161388\n",
              "Albumin_and_Globulin_Ratio    0.162319\n",
              "Dataset                       1.000000\n",
              "Name: Dataset, dtype: float64"
            ]
          },
          "metadata": {},
          "execution_count": 80
        }
      ]
    },
    {
      "cell_type": "markdown",
      "source": [
        "Dari output di atas, kita dapat melihat bahwa beberapa fitur seperti \"Total_Bilirubin\", \"Direct_Bilirubin\" memiliki korelasi negatif yang cukup kuat dengan kolom target \"Dataset\". Hal ini berarti bahwa pasien dengan nilai yang lebih tinggi pada fitur-fitur tersebut mungkin lebih cenderung menderita penyakit."
      ],
      "metadata": {
        "id": "p3BMHVcq_bAu"
      },
      "id": "p3BMHVcq_bAu"
    },
    {
      "cell_type": "code",
      "source": [
        "df.head()"
      ],
      "metadata": {
        "colab": {
          "base_uri": "https://localhost:8080/",
          "height": 226
        },
        "id": "Qj3pPvwvTI73",
        "outputId": "5b5d3d9b-0683-44e3-eb0b-ac7d0001e4fd"
      },
      "id": "Qj3pPvwvTI73",
      "execution_count": null,
      "outputs": [
        {
          "output_type": "execute_result",
          "data": {
            "text/plain": [
              "   Age  Gender  Total_Bilirubin  Direct_Bilirubin  Alkaline_Phosphotase  \\\n",
              "0   65       4              0.7               0.1                   187   \n",
              "1   62       3             10.9               5.5                   699   \n",
              "2   62       3              7.3               4.1                   490   \n",
              "3   58       3              1.0               0.4                   182   \n",
              "4   72       3              3.9               2.0                   195   \n",
              "\n",
              "   Alamine_Aminotransferase  Aspartate_Aminotransferase  Total_Protiens  \\\n",
              "0                        16                          18             6.8   \n",
              "1                        64                         100             7.5   \n",
              "2                        60                          68             7.0   \n",
              "3                        14                          20             6.8   \n",
              "4                        27                          59             7.3   \n",
              "\n",
              "   Albumin  Albumin_and_Globulin_Ratio  Dataset  \n",
              "0      3.3                        0.90        1  \n",
              "1      3.2                        0.74        1  \n",
              "2      3.3                        0.89        1  \n",
              "3      3.4                        1.00        1  \n",
              "4      2.4                        0.40        1  "
            ],
            "text/html": [
              "\n",
              "  <div id=\"df-3a655c8f-233b-4bca-9035-639187c73c0d\" class=\"colab-df-container\">\n",
              "    <div>\n",
              "<style scoped>\n",
              "    .dataframe tbody tr th:only-of-type {\n",
              "        vertical-align: middle;\n",
              "    }\n",
              "\n",
              "    .dataframe tbody tr th {\n",
              "        vertical-align: top;\n",
              "    }\n",
              "\n",
              "    .dataframe thead th {\n",
              "        text-align: right;\n",
              "    }\n",
              "</style>\n",
              "<table border=\"1\" class=\"dataframe\">\n",
              "  <thead>\n",
              "    <tr style=\"text-align: right;\">\n",
              "      <th></th>\n",
              "      <th>Age</th>\n",
              "      <th>Gender</th>\n",
              "      <th>Total_Bilirubin</th>\n",
              "      <th>Direct_Bilirubin</th>\n",
              "      <th>Alkaline_Phosphotase</th>\n",
              "      <th>Alamine_Aminotransferase</th>\n",
              "      <th>Aspartate_Aminotransferase</th>\n",
              "      <th>Total_Protiens</th>\n",
              "      <th>Albumin</th>\n",
              "      <th>Albumin_and_Globulin_Ratio</th>\n",
              "      <th>Dataset</th>\n",
              "    </tr>\n",
              "  </thead>\n",
              "  <tbody>\n",
              "    <tr>\n",
              "      <th>0</th>\n",
              "      <td>65</td>\n",
              "      <td>4</td>\n",
              "      <td>0.7</td>\n",
              "      <td>0.1</td>\n",
              "      <td>187</td>\n",
              "      <td>16</td>\n",
              "      <td>18</td>\n",
              "      <td>6.8</td>\n",
              "      <td>3.3</td>\n",
              "      <td>0.90</td>\n",
              "      <td>1</td>\n",
              "    </tr>\n",
              "    <tr>\n",
              "      <th>1</th>\n",
              "      <td>62</td>\n",
              "      <td>3</td>\n",
              "      <td>10.9</td>\n",
              "      <td>5.5</td>\n",
              "      <td>699</td>\n",
              "      <td>64</td>\n",
              "      <td>100</td>\n",
              "      <td>7.5</td>\n",
              "      <td>3.2</td>\n",
              "      <td>0.74</td>\n",
              "      <td>1</td>\n",
              "    </tr>\n",
              "    <tr>\n",
              "      <th>2</th>\n",
              "      <td>62</td>\n",
              "      <td>3</td>\n",
              "      <td>7.3</td>\n",
              "      <td>4.1</td>\n",
              "      <td>490</td>\n",
              "      <td>60</td>\n",
              "      <td>68</td>\n",
              "      <td>7.0</td>\n",
              "      <td>3.3</td>\n",
              "      <td>0.89</td>\n",
              "      <td>1</td>\n",
              "    </tr>\n",
              "    <tr>\n",
              "      <th>3</th>\n",
              "      <td>58</td>\n",
              "      <td>3</td>\n",
              "      <td>1.0</td>\n",
              "      <td>0.4</td>\n",
              "      <td>182</td>\n",
              "      <td>14</td>\n",
              "      <td>20</td>\n",
              "      <td>6.8</td>\n",
              "      <td>3.4</td>\n",
              "      <td>1.00</td>\n",
              "      <td>1</td>\n",
              "    </tr>\n",
              "    <tr>\n",
              "      <th>4</th>\n",
              "      <td>72</td>\n",
              "      <td>3</td>\n",
              "      <td>3.9</td>\n",
              "      <td>2.0</td>\n",
              "      <td>195</td>\n",
              "      <td>27</td>\n",
              "      <td>59</td>\n",
              "      <td>7.3</td>\n",
              "      <td>2.4</td>\n",
              "      <td>0.40</td>\n",
              "      <td>1</td>\n",
              "    </tr>\n",
              "  </tbody>\n",
              "</table>\n",
              "</div>\n",
              "    <div class=\"colab-df-buttons\">\n",
              "\n",
              "  <div class=\"colab-df-container\">\n",
              "    <button class=\"colab-df-convert\" onclick=\"convertToInteractive('df-3a655c8f-233b-4bca-9035-639187c73c0d')\"\n",
              "            title=\"Convert this dataframe to an interactive table.\"\n",
              "            style=\"display:none;\">\n",
              "\n",
              "  <svg xmlns=\"http://www.w3.org/2000/svg\" height=\"24px\" viewBox=\"0 -960 960 960\">\n",
              "    <path d=\"M120-120v-720h720v720H120Zm60-500h600v-160H180v160Zm220 220h160v-160H400v160Zm0 220h160v-160H400v160ZM180-400h160v-160H180v160Zm440 0h160v-160H620v160ZM180-180h160v-160H180v160Zm440 0h160v-160H620v160Z\"/>\n",
              "  </svg>\n",
              "    </button>\n",
              "\n",
              "  <style>\n",
              "    .colab-df-container {\n",
              "      display:flex;\n",
              "      gap: 12px;\n",
              "    }\n",
              "\n",
              "    .colab-df-convert {\n",
              "      background-color: #E8F0FE;\n",
              "      border: none;\n",
              "      border-radius: 50%;\n",
              "      cursor: pointer;\n",
              "      display: none;\n",
              "      fill: #1967D2;\n",
              "      height: 32px;\n",
              "      padding: 0 0 0 0;\n",
              "      width: 32px;\n",
              "    }\n",
              "\n",
              "    .colab-df-convert:hover {\n",
              "      background-color: #E2EBFA;\n",
              "      box-shadow: 0px 1px 2px rgba(60, 64, 67, 0.3), 0px 1px 3px 1px rgba(60, 64, 67, 0.15);\n",
              "      fill: #174EA6;\n",
              "    }\n",
              "\n",
              "    .colab-df-buttons div {\n",
              "      margin-bottom: 4px;\n",
              "    }\n",
              "\n",
              "    [theme=dark] .colab-df-convert {\n",
              "      background-color: #3B4455;\n",
              "      fill: #D2E3FC;\n",
              "    }\n",
              "\n",
              "    [theme=dark] .colab-df-convert:hover {\n",
              "      background-color: #434B5C;\n",
              "      box-shadow: 0px 1px 3px 1px rgba(0, 0, 0, 0.15);\n",
              "      filter: drop-shadow(0px 1px 2px rgba(0, 0, 0, 0.3));\n",
              "      fill: #FFFFFF;\n",
              "    }\n",
              "  </style>\n",
              "\n",
              "    <script>\n",
              "      const buttonEl =\n",
              "        document.querySelector('#df-3a655c8f-233b-4bca-9035-639187c73c0d button.colab-df-convert');\n",
              "      buttonEl.style.display =\n",
              "        google.colab.kernel.accessAllowed ? 'block' : 'none';\n",
              "\n",
              "      async function convertToInteractive(key) {\n",
              "        const element = document.querySelector('#df-3a655c8f-233b-4bca-9035-639187c73c0d');\n",
              "        const dataTable =\n",
              "          await google.colab.kernel.invokeFunction('convertToInteractive',\n",
              "                                                    [key], {});\n",
              "        if (!dataTable) return;\n",
              "\n",
              "        const docLinkHtml = 'Like what you see? Visit the ' +\n",
              "          '<a target=\"_blank\" href=https://colab.research.google.com/notebooks/data_table.ipynb>data table notebook</a>'\n",
              "          + ' to learn more about interactive tables.';\n",
              "        element.innerHTML = '';\n",
              "        dataTable['output_type'] = 'display_data';\n",
              "        await google.colab.output.renderOutput(dataTable, element);\n",
              "        const docLink = document.createElement('div');\n",
              "        docLink.innerHTML = docLinkHtml;\n",
              "        element.appendChild(docLink);\n",
              "      }\n",
              "    </script>\n",
              "  </div>\n",
              "\n",
              "\n",
              "<div id=\"df-fd2185a1-fa40-40cb-9919-990a7a36f52d\">\n",
              "  <button class=\"colab-df-quickchart\" onclick=\"quickchart('df-fd2185a1-fa40-40cb-9919-990a7a36f52d')\"\n",
              "            title=\"Suggest charts\"\n",
              "            style=\"display:none;\">\n",
              "\n",
              "<svg xmlns=\"http://www.w3.org/2000/svg\" height=\"24px\"viewBox=\"0 0 24 24\"\n",
              "     width=\"24px\">\n",
              "    <g>\n",
              "        <path d=\"M19 3H5c-1.1 0-2 .9-2 2v14c0 1.1.9 2 2 2h14c1.1 0 2-.9 2-2V5c0-1.1-.9-2-2-2zM9 17H7v-7h2v7zm4 0h-2V7h2v10zm4 0h-2v-4h2v4z\"/>\n",
              "    </g>\n",
              "</svg>\n",
              "  </button>\n",
              "\n",
              "<style>\n",
              "  .colab-df-quickchart {\n",
              "      --bg-color: #E8F0FE;\n",
              "      --fill-color: #1967D2;\n",
              "      --hover-bg-color: #E2EBFA;\n",
              "      --hover-fill-color: #174EA6;\n",
              "      --disabled-fill-color: #AAA;\n",
              "      --disabled-bg-color: #DDD;\n",
              "  }\n",
              "\n",
              "  [theme=dark] .colab-df-quickchart {\n",
              "      --bg-color: #3B4455;\n",
              "      --fill-color: #D2E3FC;\n",
              "      --hover-bg-color: #434B5C;\n",
              "      --hover-fill-color: #FFFFFF;\n",
              "      --disabled-bg-color: #3B4455;\n",
              "      --disabled-fill-color: #666;\n",
              "  }\n",
              "\n",
              "  .colab-df-quickchart {\n",
              "    background-color: var(--bg-color);\n",
              "    border: none;\n",
              "    border-radius: 50%;\n",
              "    cursor: pointer;\n",
              "    display: none;\n",
              "    fill: var(--fill-color);\n",
              "    height: 32px;\n",
              "    padding: 0;\n",
              "    width: 32px;\n",
              "  }\n",
              "\n",
              "  .colab-df-quickchart:hover {\n",
              "    background-color: var(--hover-bg-color);\n",
              "    box-shadow: 0 1px 2px rgba(60, 64, 67, 0.3), 0 1px 3px 1px rgba(60, 64, 67, 0.15);\n",
              "    fill: var(--button-hover-fill-color);\n",
              "  }\n",
              "\n",
              "  .colab-df-quickchart-complete:disabled,\n",
              "  .colab-df-quickchart-complete:disabled:hover {\n",
              "    background-color: var(--disabled-bg-color);\n",
              "    fill: var(--disabled-fill-color);\n",
              "    box-shadow: none;\n",
              "  }\n",
              "\n",
              "  .colab-df-spinner {\n",
              "    border: 2px solid var(--fill-color);\n",
              "    border-color: transparent;\n",
              "    border-bottom-color: var(--fill-color);\n",
              "    animation:\n",
              "      spin 1s steps(1) infinite;\n",
              "  }\n",
              "\n",
              "  @keyframes spin {\n",
              "    0% {\n",
              "      border-color: transparent;\n",
              "      border-bottom-color: var(--fill-color);\n",
              "      border-left-color: var(--fill-color);\n",
              "    }\n",
              "    20% {\n",
              "      border-color: transparent;\n",
              "      border-left-color: var(--fill-color);\n",
              "      border-top-color: var(--fill-color);\n",
              "    }\n",
              "    30% {\n",
              "      border-color: transparent;\n",
              "      border-left-color: var(--fill-color);\n",
              "      border-top-color: var(--fill-color);\n",
              "      border-right-color: var(--fill-color);\n",
              "    }\n",
              "    40% {\n",
              "      border-color: transparent;\n",
              "      border-right-color: var(--fill-color);\n",
              "      border-top-color: var(--fill-color);\n",
              "    }\n",
              "    60% {\n",
              "      border-color: transparent;\n",
              "      border-right-color: var(--fill-color);\n",
              "    }\n",
              "    80% {\n",
              "      border-color: transparent;\n",
              "      border-right-color: var(--fill-color);\n",
              "      border-bottom-color: var(--fill-color);\n",
              "    }\n",
              "    90% {\n",
              "      border-color: transparent;\n",
              "      border-bottom-color: var(--fill-color);\n",
              "    }\n",
              "  }\n",
              "</style>\n",
              "\n",
              "  <script>\n",
              "    async function quickchart(key) {\n",
              "      const quickchartButtonEl =\n",
              "        document.querySelector('#' + key + ' button');\n",
              "      quickchartButtonEl.disabled = true;  // To prevent multiple clicks.\n",
              "      quickchartButtonEl.classList.add('colab-df-spinner');\n",
              "      try {\n",
              "        const charts = await google.colab.kernel.invokeFunction(\n",
              "            'suggestCharts', [key], {});\n",
              "      } catch (error) {\n",
              "        console.error('Error during call to suggestCharts:', error);\n",
              "      }\n",
              "      quickchartButtonEl.classList.remove('colab-df-spinner');\n",
              "      quickchartButtonEl.classList.add('colab-df-quickchart-complete');\n",
              "    }\n",
              "    (() => {\n",
              "      let quickchartButtonEl =\n",
              "        document.querySelector('#df-fd2185a1-fa40-40cb-9919-990a7a36f52d button');\n",
              "      quickchartButtonEl.style.display =\n",
              "        google.colab.kernel.accessAllowed ? 'block' : 'none';\n",
              "    })();\n",
              "  </script>\n",
              "</div>\n",
              "    </div>\n",
              "  </div>\n"
            ]
          },
          "metadata": {},
          "execution_count": 81
        }
      ]
    },
    {
      "cell_type": "code",
      "source": [
        "df.hist(bins=50, figsize=(18,18))"
      ],
      "metadata": {
        "colab": {
          "base_uri": "https://localhost:8080/",
          "height": 1000
        },
        "id": "0q5Q5x6OTRZY",
        "outputId": "c5a3a27e-0eab-4edf-c319-69d5aa300cc8"
      },
      "id": "0q5Q5x6OTRZY",
      "execution_count": null,
      "outputs": [
        {
          "output_type": "execute_result",
          "data": {
            "text/plain": [
              "array([[<Axes: title={'center': 'Age'}>,\n",
              "        <Axes: title={'center': 'Gender'}>,\n",
              "        <Axes: title={'center': 'Total_Bilirubin'}>],\n",
              "       [<Axes: title={'center': 'Direct_Bilirubin'}>,\n",
              "        <Axes: title={'center': 'Alkaline_Phosphotase'}>,\n",
              "        <Axes: title={'center': 'Alamine_Aminotransferase'}>],\n",
              "       [<Axes: title={'center': 'Aspartate_Aminotransferase'}>,\n",
              "        <Axes: title={'center': 'Total_Protiens'}>,\n",
              "        <Axes: title={'center': 'Albumin'}>],\n",
              "       [<Axes: title={'center': 'Albumin_and_Globulin_Ratio'}>,\n",
              "        <Axes: title={'center': 'Dataset'}>, <Axes: >]], dtype=object)"
            ]
          },
          "metadata": {},
          "execution_count": 82
        },
        {
          "output_type": "display_data",
          "data": {
            "text/plain": [
              "<Figure size 1800x1800 with 12 Axes>"
            ],
            "image/png": "[encoded data removed]"
          },
          "metadata": {}
        }
      ]
    },
    {
      "cell_type": "markdown",
      "source": [
        "# Analisis fitur"
      ],
      "metadata": {
        "id": "y7upRvSSUZYp"
      },
      "id": "y7upRvSSUZYp"
    },
    {
      "cell_type": "code",
      "execution_count": null,
      "id": "bd1c9727",
      "metadata": {
        "id": "bd1c9727",
        "colab": {
          "base_uri": "https://localhost:8080/"
        },
        "outputId": "b5ea2663-da66-4d20-a9ce-dbc5e88a8b6c"
      },
      "outputs": [
        {
          "output_type": "execute_result",
          "data": {
            "text/plain": [
              "60    34\n",
              "45    25\n",
              "50    23\n",
              "42    21\n",
              "38    21\n",
              "      ..\n",
              "78     1\n",
              "11     1\n",
              "67     1\n",
              "10     1\n",
              "90     1\n",
              "Name: Age, Length: 72, dtype: int64"
            ]
          },
          "metadata": {},
          "execution_count": 83
        }
      ],
      "source": [
        "# menghitung frekuensi kemunculan setiap nilai unik dalam kolom \"Age\"\n",
        "df.Age.value_counts()"
      ]
    },
    {
      "cell_type": "code",
      "execution_count": null,
      "id": "f7769541",
      "metadata": {
        "id": "f7769541",
        "colab": {
          "base_uri": "https://localhost:8080/",
          "height": 688
        },
        "outputId": "832cfd38-bda6-4f9d-8447-ca8f8c876b30"
      },
      "outputs": [
        {
          "output_type": "stream",
          "name": "stderr",
          "text": [
            "<ipython-input-84-550510f13c26>:2: UserWarning: \n",
            "\n",
            "`distplot` is a deprecated function and will be removed in seaborn v0.14.0.\n",
            "\n",
            "Please adapt your code to use either `displot` (a figure-level function with\n",
            "similar flexibility) or `histplot` (an axes-level function for histograms).\n",
            "\n",
            "For a guide to updating your code to use the new functions, please see\n",
            "https://gist.github.com/mwaskom/de44147ed2974457ad6372750bbe5751\n",
            "\n",
            "  sns.distplot(df['Age'])\n"
          ]
        },
        {
          "output_type": "display_data",
          "data": {
            "text/plain": [
              "<Figure size 500x500 with 1 Axes>"
            ],
            "image/png": "[encoded data removed]"
          },
          "metadata": {}
        }
      ],
      "source": [
        "# Grafik distribusi usia\n",
        "sns.distplot(df['Age'])\n",
        "plt.title('Grafik distribusi usia')\n",
        "plt.show()\n"
      ]
    },
    {
      "cell_type": "markdown",
      "source": [
        "**Sebagian besar pasien berusia antara 45 hingga 60 tahun**"
      ],
      "metadata": {
        "id": "z3A1hEEZVX8z"
      },
      "id": "z3A1hEEZVX8z"
    },
    {
      "cell_type": "code",
      "source": [
        "DG=df.Gender.value_counts()\n",
        "DG"
      ],
      "metadata": {
        "id": "tE9YDIJ7VoQG",
        "colab": {
          "base_uri": "https://localhost:8080/"
        },
        "outputId": "d5d8f00c-0918-4868-b9a0-66804c080be0"
      },
      "id": "tE9YDIJ7VoQG",
      "execution_count": null,
      "outputs": [
        {
          "output_type": "execute_result",
          "data": {
            "text/plain": [
              "3    441\n",
              "4    142\n",
              "Name: Gender, dtype: int64"
            ]
          },
          "metadata": {},
          "execution_count": 85
        }
      ]
    },
    {
      "cell_type": "markdown",
      "source": [
        "Jumlah pria dalam dataset: 441\n",
        "\n",
        "Jumlah wanita dalam dataset: 142\n"
      ],
      "metadata": {
        "id": "QgTd0jIhV504"
      },
      "id": "QgTd0jIhV504"
    },
    {
      "cell_type": "code",
      "source": [
        "# Diagram lingkaran untuk evaluasi kolom Gender\n",
        "rcParams['figure.figsize'] = 5,5\n",
        "\n",
        "plt.pie(DG,[0.1,0],colors=['blue','pink'],labels=['P','W'],autopct='%1.1f%%')\n",
        "plt.title(\"Jenis Kelamin (Gender)\")\n",
        "plt.show()"
      ],
      "metadata": {
        "id": "UplSX2QvWS9v",
        "colab": {
          "base_uri": "https://localhost:8080/",
          "height": 444
        },
        "outputId": "315b73bd-5551-4554-c4ae-d83d8371ffc9"
      },
      "id": "UplSX2QvWS9v",
      "execution_count": null,
      "outputs": [
        {
          "output_type": "display_data",
          "data": {
            "text/plain": [
              "<Figure size 500x500 with 1 Axes>"
            ],
            "image/png": "[encoded data removed]"
          },
          "metadata": {}
        }
      ]
    },
    {
      "cell_type": "markdown",
      "source": [
        "**Pria berisiko lebih tinggi terkena penyakit hati dibandingkan dengan Wanita.**"
      ],
      "metadata": {
        "id": "3kcGnuAIXSXr"
      },
      "id": "3kcGnuAIXSXr"
    },
    {
      "cell_type": "code",
      "source": [
        "# Evaluasi kolom Dataset (Terkena Penyakit/Tidak)\n",
        "df.Dataset.value_counts()"
      ],
      "metadata": {
        "id": "wX57oDuEYf9T",
        "colab": {
          "base_uri": "https://localhost:8080/"
        },
        "outputId": "9035ea60-861a-419b-dec8-6e8c07940d5d"
      },
      "id": "wX57oDuEYf9T",
      "execution_count": null,
      "outputs": [
        {
          "output_type": "execute_result",
          "data": {
            "text/plain": [
              "1    416\n",
              "2    167\n",
              "Name: Dataset, dtype: int64"
            ]
          },
          "metadata": {},
          "execution_count": 87
        }
      ]
    },
    {
      "cell_type": "code",
      "source": [
        "# Diagram lingkaran untuk kolom Dataset (Penyakit/Tidak)\n",
        "plt.pie(df.Dataset.value_counts(),[0.1,0],colors=['orange','yellow'],labels=['LiverPatient','Not a LiverPatient'],autopct=\"%1.1f%%\")\n",
        "plt.title(\"Dataset (Hasil)\")\n",
        "plt.show()"
      ],
      "metadata": {
        "id": "Do56s9_8Y9YJ",
        "colab": {
          "base_uri": "https://localhost:8080/",
          "height": 444
        },
        "outputId": "741af56a-09f8-4613-bac2-3db03dcf71cc"
      },
      "id": "Do56s9_8Y9YJ",
      "execution_count": null,
      "outputs": [
        {
          "output_type": "display_data",
          "data": {
            "text/plain": [
              "<Figure size 500x500 with 1 Axes>"
            ],
            "image/png": "[encoded data removed]"
          },
          "metadata": {}
        }
      ]
    },
    {
      "cell_type": "markdown",
      "source": [
        "**Jumlah Pasien Hati: 416**\n",
        "\n",
        "**Jumlah bukan Pasien Hati: 167**"
      ],
      "metadata": {
        "id": "tSnZFjwjZgaa"
      },
      "id": "tSnZFjwjZgaa"
    },
    {
      "cell_type": "code",
      "source": [
        "# Countplot untuk Gender (Jenis Kelamin) dan Dataset (Penyakit/Tidak)\n",
        "def countplot_of_2(x,hue,title=None,figsize=(6,5)):\n",
        "    plt.figure(figsize=figsize)\n",
        "    sns.countplot(data=df[[x,hue]],x=x,hue=hue)\n",
        "    plt.title(title)\n",
        "    plt.show()\n",
        "\n",
        "countplot_of_2('Dataset','Gender','Male/Female Vs LiverPatient/Not LiverPatient')"
      ],
      "metadata": {
        "id": "U2r7PU9vZzZ3",
        "colab": {
          "base_uri": "https://localhost:8080/",
          "height": 487
        },
        "outputId": "7e326845-9363-49a5-b146-ef7f069de25f"
      },
      "id": "U2r7PU9vZzZ3",
      "execution_count": null,
      "outputs": [
        {
          "output_type": "display_data",
          "data": {
            "text/plain": [
              "<Figure size 600x500 with 1 Axes>"
            ],
            "image/png": "[encoded data removed]"
          },
          "metadata": {}
        }
      ]
    },
    {
      "cell_type": "markdown",
      "source": [
        "**Berdasarkan countplot pasien yang memiliki penyakit hati maupun tidak memiliki penyakit hati kebanyakan berjenis kelamin Pria/laki-laki **"
      ],
      "metadata": {
        "id": "ucsudNmpavVz"
      },
      "id": "ucsudNmpavVz"
    },
    {
      "cell_type": "markdown",
      "source": [
        "# **Training Model**"
      ],
      "metadata": {
        "id": "5CIKb7jIeqMX"
      },
      "id": "5CIKb7jIeqMX"
    },
    {
      "cell_type": "markdown",
      "id": "691b437e",
      "metadata": {
        "id": "691b437e"
      },
      "source": [
        "#### Ringkasan Metode\n",
        "\n",
        "Random Forest adalah algoritma pembelajaran mesin yang populer yang digunakan untuk tugas klasifikasi, regresi, dan pilihan lainnya dalam pembelajaran supervisi. Random Forest memanfaatkan ide dari \"hutan keputusan\" (ensemble of decision trees) untuk membuat prediksi yang lebih akurat daripada pohon keputusan tunggal.\n",
        "\n",
        "Pada kali ini kami membuat 4 model diantaranya:\n",
        "1. Baseline Model (Default): Menggunakan hyperparameter default dari Random forest\n",
        "2. Model 1 (High Estimators): Meningkatkan jumlah pohon keputusan (n_estimators)\n",
        "3. Model 2 (Low Max Depth): Pengaturan kedalaman maksimum yang relatif rendah untuk setiap pohon keputusan dalam ensamble Random Forest (max_depth)\n",
        "4. Model 3 (Low Max Features): Pengaturan jumlah fitur maksimum yang dipertimbangkan (max_features)"
      ]
    },
    {
      "cell_type": "code",
      "source": [
        "# Membangun model klasifikasi\n",
        "df.columns"
      ],
      "metadata": {
        "id": "_bFKdYV_xuPs",
        "colab": {
          "base_uri": "https://localhost:8080/"
        },
        "outputId": "377e6711-745e-4b45-e3e2-3ffe141ac34e"
      },
      "id": "_bFKdYV_xuPs",
      "execution_count": null,
      "outputs": [
        {
          "output_type": "execute_result",
          "data": {
            "text/plain": [
              "Index(['Age', 'Gender', 'Total_Bilirubin', 'Direct_Bilirubin',\n",
              "       'Alkaline_Phosphotase', 'Alamine_Aminotransferase',\n",
              "       'Aspartate_Aminotransferase', 'Total_Protiens', 'Albumin',\n",
              "       'Albumin_and_Globulin_Ratio', 'Dataset'],\n",
              "      dtype='object')"
            ]
          },
          "metadata": {},
          "execution_count": 91
        }
      ]
    },
    {
      "cell_type": "code",
      "source": [
        "# menghitung koefisien korelasi antara setiap fitur dalam dataset (kecuali kolom \"Dataset\") dengan kolom \"Dataset\"\n",
        "df.drop(\"Dataset\", axis=1).apply(lambda x: x.corr(df['Dataset']))"
      ],
      "metadata": {
        "id": "nuC9bYFiyA4G",
        "colab": {
          "base_uri": "https://localhost:8080/"
        },
        "outputId": "d6631005-529a-4b52-8bed-cdd23d9720df"
      },
      "id": "nuC9bYFiyA4G",
      "execution_count": null,
      "outputs": [
        {
          "output_type": "execute_result",
          "data": {
            "text/plain": [
              "Age                          -0.137351\n",
              "Gender                        0.082416\n",
              "Total_Bilirubin              -0.220208\n",
              "Direct_Bilirubin             -0.246046\n",
              "Alkaline_Phosphotase         -0.184866\n",
              "Alamine_Aminotransferase     -0.163416\n",
              "Aspartate_Aminotransferase   -0.151934\n",
              "Total_Protiens                0.035008\n",
              "Albumin                       0.161388\n",
              "Albumin_and_Globulin_Ratio    0.162319\n",
              "dtype: float64"
            ]
          },
          "metadata": {},
          "execution_count": 92
        }
      ]
    },
    {
      "cell_type": "markdown",
      "source": [
        "Dari output di atas, kita dapat melihat bahwa beberapa fitur memiliki korelasi positif dengan kolom target \"Dataset\" (seperti \"Albumin\" dan \"Albumin_and_Globulin_Ratio\"), sementara fitur lainnya memiliki korelasi negatif (seperti \"Total_Bilirubin\" dan \"Direct_Bilirubin\")."
      ],
      "metadata": {
        "id": "Z6QyZwKM3aOM"
      },
      "id": "Z6QyZwKM3aOM"
    },
    {
      "cell_type": "code",
      "source": [
        "# Mendefinisikan variabel fitur dan target.\n",
        "# Memisahkan dataset ke dalam variabel fitur (x) dan target (y).\n",
        "X = df.drop('Dataset', axis=1)\n",
        "y = df['Dataset']"
      ],
      "metadata": {
        "id": "V8J8Zn9uyUC0"
      },
      "id": "V8J8Zn9uyUC0",
      "execution_count": null,
      "outputs": []
    },
    {
      "cell_type": "markdown",
      "source": [
        "*   Variabel x akan berisi semua fitur dari dataset tanpa kolom target \"Dataset\".\n",
        "*   Variabel y akan berisi kolom target \"Dataset\", yang berisi label atau kategori yang akan diprediksi oleh model.\n",
        "\n"
      ],
      "metadata": {
        "id": "g3GcyqGO4Sur"
      },
      "id": "g3GcyqGO4Sur"
    },
    {
      "cell_type": "code",
      "source": [
        "# Membagi data latih dan data uji\n",
        "X_train,X_test,y_train,y_test=train_test_split(X,y,test_size=0.3,random_state=21)"
      ],
      "metadata": {
        "id": "gQWYaiIIy2gN"
      },
      "id": "gQWYaiIIy2gN",
      "execution_count": null,
      "outputs": []
    },
    {
      "cell_type": "markdown",
      "source": [
        "Kami membagi pelatihan dan pengujian dengan rasio 70 untuk pelatihan dan 30 untuk pengujian."
      ],
      "metadata": {
        "id": "Dbaoq5BXzQPc"
      },
      "id": "Dbaoq5BXzQPc"
    },
    {
      "cell_type": "code",
      "source": [
        "# Baseline Model (Default)\n",
        "baseline = RandomForestClassifier(random_state=21)\n",
        "baseline.fit(X_train, y_train)\n",
        "predictions_baseline = baseline.predict(X_test)\n",
        "bl = accuracy_score(y_test, predictions_baseline)\n",
        "print(\"\\nBaseline Model (Default) Results:\")\n",
        "print(\"Akurasi:\", bl)\n",
        "print(\"Laporan Klasifikasi:\\n\", classification_report(y_test, predictions_baseline))"
      ],
      "metadata": {
        "id": "ccceJXa3v231",
        "colab": {
          "base_uri": "https://localhost:8080/"
        },
        "outputId": "f0208862-af64-44ce-826f-1f0a1bf93574"
      },
      "id": "ccceJXa3v231",
      "execution_count": null,
      "outputs": [
        {
          "output_type": "stream",
          "name": "stdout",
          "text": [
            "\n",
            "Baseline Model (Default) Results:\n",
            "Akurasi: 0.8057142857142857\n",
            "Laporan Klasifikasi:\n",
            "               precision    recall  f1-score   support\n",
            "\n",
            "           1       0.85      0.92      0.88       137\n",
            "           2       0.58      0.39      0.47        38\n",
            "\n",
            "    accuracy                           0.81       175\n",
            "   macro avg       0.71      0.66      0.67       175\n",
            "weighted avg       0.79      0.81      0.79       175\n",
            "\n"
          ]
        }
      ]
    },
    {
      "cell_type": "code",
      "execution_count": null,
      "id": "27ae8626",
      "metadata": {
        "id": "27ae8626",
        "colab": {
          "base_uri": "https://localhost:8080/"
        },
        "outputId": "269ae02e-6738-4cf9-80a3-551bac66e2bc"
      },
      "outputs": [
        {
          "output_type": "stream",
          "name": "stdout",
          "text": [
            "\n",
            "Model 1 (High Estimators) Results:\n",
            "Akurasi: 0.7885714285714286\n",
            "Laporan Klasifikasi:\n",
            "               precision    recall  f1-score   support\n",
            "\n",
            "           1       0.84      0.90      0.87       137\n",
            "           2       0.52      0.39      0.45        38\n",
            "\n",
            "    accuracy                           0.79       175\n",
            "   macro avg       0.68      0.65      0.66       175\n",
            "weighted avg       0.77      0.79      0.78       175\n",
            "\n",
            "\n",
            "Model 2 (Low Max Depth) Results:\n",
            "Akurasi: 0.7714285714285715\n",
            "Laporan Klasifikasi:\n",
            "               precision    recall  f1-score   support\n",
            "\n",
            "           1       0.83      0.88      0.86       137\n",
            "           2       0.47      0.37      0.41        38\n",
            "\n",
            "    accuracy                           0.77       175\n",
            "   macro avg       0.65      0.63      0.63       175\n",
            "weighted avg       0.75      0.77      0.76       175\n",
            "\n",
            "\n",
            "Model 3 (Low Max Features) Results:\n",
            "Akurasi: 0.7828571428571428\n",
            "Laporan Klasifikasi:\n",
            "               precision    recall  f1-score   support\n",
            "\n",
            "           1       0.83      0.88      0.86       137\n",
            "           2       0.47      0.37      0.41        38\n",
            "\n",
            "    accuracy                           0.77       175\n",
            "   macro avg       0.65      0.63      0.63       175\n",
            "weighted avg       0.75      0.77      0.76       175\n",
            "\n"
          ]
        }
      ],
      "source": [
        "# Model Exploration (at least 3 scheme)\n",
        "\n",
        "# Skema 1: Jumlah Pohon yang Banyak\n",
        "model1 = RandomForestClassifier(n_estimators=200, random_state=21)\n",
        "model1.fit(X_train, y_train)\n",
        "predictions_model1 = model1.predict(X_test)\n",
        "m1 = accuracy_score(y_test, predictions_model1)\n",
        "print(\"\\nModel 1 (High Estimators) Results:\")\n",
        "print(\"Akurasi:\", m1)\n",
        "print(\"Laporan Klasifikasi:\\n\", classification_report(y_test, predictions_model1))\n",
        "\n",
        "# Skema 2: Kedalaman Pohon yang Terbatas (max_depth Rendah)\n",
        "model2 = RandomForestClassifier(max_depth=5, random_state=21)\n",
        "model2.fit(X_train, y_train)\n",
        "predictions_model2 = model2.predict(X_test)\n",
        "m2 = accuracy_score(y_test, predictions_model2)\n",
        "print(\"\\nModel 2 (Low Max Depth) Results:\")\n",
        "print(\"Akurasi:\", m2)\n",
        "print(\"Laporan Klasifikasi:\\n\", classification_report(y_test, predictions_model2))\n",
        "\n",
        "# Skema 3: Fitur yang Dibatasi (max_features Kecil)\n",
        "model3 = RandomForestClassifier(max_features=2, random_state=21)\n",
        "model3.fit(X_train, y_train)\n",
        "predictions_model3 = model3.predict(X_test)\n",
        "m3 = accuracy_score(y_test, predictions_model3)\n",
        "print(\"\\nModel 3 (Low Max Features) Results:\")\n",
        "print(\"Akurasi:\", m3)\n",
        "print(\"Laporan Klasifikasi:\\n\", classification_report(y_test, predictions_model2))\n"
      ]
    },
    {
      "cell_type": "code",
      "execution_count": null,
      "id": "db175b05",
      "metadata": {
        "id": "db175b05",
        "colab": {
          "base_uri": "https://localhost:8080/",
          "height": 175
        },
        "outputId": "e6c5c804-10c9-42f8-fd07-f6cba78a4e92"
      },
      "outputs": [
        {
          "output_type": "execute_result",
          "data": {
            "text/plain": [
              "  classification models  accuracy_score\n",
              "0        Baseline Model        0.805714\n",
              "1               Model 1        0.788571\n",
              "2               Model 2        0.771429\n",
              "3               model 3        0.782857"
            ],
            "text/html": [
              "\n",
              "  <div id=\"df-0ad6089f-a94c-4137-8b98-5883f009fd6d\" class=\"colab-df-container\">\n",
              "    <div>\n",
              "<style scoped>\n",
              "    .dataframe tbody tr th:only-of-type {\n",
              "        vertical-align: middle;\n",
              "    }\n",
              "\n",
              "    .dataframe tbody tr th {\n",
              "        vertical-align: top;\n",
              "    }\n",
              "\n",
              "    .dataframe thead th {\n",
              "        text-align: right;\n",
              "    }\n",
              "</style>\n",
              "<table border=\"1\" class=\"dataframe\">\n",
              "  <thead>\n",
              "    <tr style=\"text-align: right;\">\n",
              "      <th></th>\n",
              "      <th>classification models</th>\n",
              "      <th>accuracy_score</th>\n",
              "    </tr>\n",
              "  </thead>\n",
              "  <tbody>\n",
              "    <tr>\n",
              "      <th>0</th>\n",
              "      <td>Baseline Model</td>\n",
              "      <td>0.805714</td>\n",
              "    </tr>\n",
              "    <tr>\n",
              "      <th>1</th>\n",
              "      <td>Model 1</td>\n",
              "      <td>0.788571</td>\n",
              "    </tr>\n",
              "    <tr>\n",
              "      <th>2</th>\n",
              "      <td>Model 2</td>\n",
              "      <td>0.771429</td>\n",
              "    </tr>\n",
              "    <tr>\n",
              "      <th>3</th>\n",
              "      <td>model 3</td>\n",
              "      <td>0.782857</td>\n",
              "    </tr>\n",
              "  </tbody>\n",
              "</table>\n",
              "</div>\n",
              "    <div class=\"colab-df-buttons\">\n",
              "\n",
              "  <div class=\"colab-df-container\">\n",
              "    <button class=\"colab-df-convert\" onclick=\"convertToInteractive('df-0ad6089f-a94c-4137-8b98-5883f009fd6d')\"\n",
              "            title=\"Convert this dataframe to an interactive table.\"\n",
              "            style=\"display:none;\">\n",
              "\n",
              "  <svg xmlns=\"http://www.w3.org/2000/svg\" height=\"24px\" viewBox=\"0 -960 960 960\">\n",
              "    <path d=\"M120-120v-720h720v720H120Zm60-500h600v-160H180v160Zm220 220h160v-160H400v160Zm0 220h160v-160H400v160ZM180-400h160v-160H180v160Zm440 0h160v-160H620v160ZM180-180h160v-160H180v160Zm440 0h160v-160H620v160Z\"/>\n",
              "  </svg>\n",
              "    </button>\n",
              "\n",
              "  <style>\n",
              "    .colab-df-container {\n",
              "      display:flex;\n",
              "      gap: 12px;\n",
              "    }\n",
              "\n",
              "    .colab-df-convert {\n",
              "      background-color: #E8F0FE;\n",
              "      border: none;\n",
              "      border-radius: 50%;\n",
              "      cursor: pointer;\n",
              "      display: none;\n",
              "      fill: #1967D2;\n",
              "      height: 32px;\n",
              "      padding: 0 0 0 0;\n",
              "      width: 32px;\n",
              "    }\n",
              "\n",
              "    .colab-df-convert:hover {\n",
              "      background-color: #E2EBFA;\n",
              "      box-shadow: 0px 1px 2px rgba(60, 64, 67, 0.3), 0px 1px 3px 1px rgba(60, 64, 67, 0.15);\n",
              "      fill: #174EA6;\n",
              "    }\n",
              "\n",
              "    .colab-df-buttons div {\n",
              "      margin-bottom: 4px;\n",
              "    }\n",
              "\n",
              "    [theme=dark] .colab-df-convert {\n",
              "      background-color: #3B4455;\n",
              "      fill: #D2E3FC;\n",
              "    }\n",
              "\n",
              "    [theme=dark] .colab-df-convert:hover {\n",
              "      background-color: #434B5C;\n",
              "      box-shadow: 0px 1px 3px 1px rgba(0, 0, 0, 0.15);\n",
              "      filter: drop-shadow(0px 1px 2px rgba(0, 0, 0, 0.3));\n",
              "      fill: #FFFFFF;\n",
              "    }\n",
              "  </style>\n",
              "\n",
              "    <script>\n",
              "      const buttonEl =\n",
              "        document.querySelector('#df-0ad6089f-a94c-4137-8b98-5883f009fd6d button.colab-df-convert');\n",
              "      buttonEl.style.display =\n",
              "        google.colab.kernel.accessAllowed ? 'block' : 'none';\n",
              "\n",
              "      async function convertToInteractive(key) {\n",
              "        const element = document.querySelector('#df-0ad6089f-a94c-4137-8b98-5883f009fd6d');\n",
              "        const dataTable =\n",
              "          await google.colab.kernel.invokeFunction('convertToInteractive',\n",
              "                                                    [key], {});\n",
              "        if (!dataTable) return;\n",
              "\n",
              "        const docLinkHtml = 'Like what you see? Visit the ' +\n",
              "          '<a target=\"_blank\" href=https://colab.research.google.com/notebooks/data_table.ipynb>data table notebook</a>'\n",
              "          + ' to learn more about interactive tables.';\n",
              "        element.innerHTML = '';\n",
              "        dataTable['output_type'] = 'display_data';\n",
              "        await google.colab.output.renderOutput(dataTable, element);\n",
              "        const docLink = document.createElement('div');\n",
              "        docLink.innerHTML = docLinkHtml;\n",
              "        element.appendChild(docLink);\n",
              "      }\n",
              "    </script>\n",
              "  </div>\n",
              "\n",
              "\n",
              "<div id=\"df-c71f107b-7106-45b1-affb-1a6e44a15661\">\n",
              "  <button class=\"colab-df-quickchart\" onclick=\"quickchart('df-c71f107b-7106-45b1-affb-1a6e44a15661')\"\n",
              "            title=\"Suggest charts\"\n",
              "            style=\"display:none;\">\n",
              "\n",
              "<svg xmlns=\"http://www.w3.org/2000/svg\" height=\"24px\"viewBox=\"0 0 24 24\"\n",
              "     width=\"24px\">\n",
              "    <g>\n",
              "        <path d=\"M19 3H5c-1.1 0-2 .9-2 2v14c0 1.1.9 2 2 2h14c1.1 0 2-.9 2-2V5c0-1.1-.9-2-2-2zM9 17H7v-7h2v7zm4 0h-2V7h2v10zm4 0h-2v-4h2v4z\"/>\n",
              "    </g>\n",
              "</svg>\n",
              "  </button>\n",
              "\n",
              "<style>\n",
              "  .colab-df-quickchart {\n",
              "      --bg-color: #E8F0FE;\n",
              "      --fill-color: #1967D2;\n",
              "      --hover-bg-color: #E2EBFA;\n",
              "      --hover-fill-color: #174EA6;\n",
              "      --disabled-fill-color: #AAA;\n",
              "      --disabled-bg-color: #DDD;\n",
              "  }\n",
              "\n",
              "  [theme=dark] .colab-df-quickchart {\n",
              "      --bg-color: #3B4455;\n",
              "      --fill-color: #D2E3FC;\n",
              "      --hover-bg-color: #434B5C;\n",
              "      --hover-fill-color: #FFFFFF;\n",
              "      --disabled-bg-color: #3B4455;\n",
              "      --disabled-fill-color: #666;\n",
              "  }\n",
              "\n",
              "  .colab-df-quickchart {\n",
              "    background-color: var(--bg-color);\n",
              "    border: none;\n",
              "    border-radius: 50%;\n",
              "    cursor: pointer;\n",
              "    display: none;\n",
              "    fill: var(--fill-color);\n",
              "    height: 32px;\n",
              "    padding: 0;\n",
              "    width: 32px;\n",
              "  }\n",
              "\n",
              "  .colab-df-quickchart:hover {\n",
              "    background-color: var(--hover-bg-color);\n",
              "    box-shadow: 0 1px 2px rgba(60, 64, 67, 0.3), 0 1px 3px 1px rgba(60, 64, 67, 0.15);\n",
              "    fill: var(--button-hover-fill-color);\n",
              "  }\n",
              "\n",
              "  .colab-df-quickchart-complete:disabled,\n",
              "  .colab-df-quickchart-complete:disabled:hover {\n",
              "    background-color: var(--disabled-bg-color);\n",
              "    fill: var(--disabled-fill-color);\n",
              "    box-shadow: none;\n",
              "  }\n",
              "\n",
              "  .colab-df-spinner {\n",
              "    border: 2px solid var(--fill-color);\n",
              "    border-color: transparent;\n",
              "    border-bottom-color: var(--fill-color);\n",
              "    animation:\n",
              "      spin 1s steps(1) infinite;\n",
              "  }\n",
              "\n",
              "  @keyframes spin {\n",
              "    0% {\n",
              "      border-color: transparent;\n",
              "      border-bottom-color: var(--fill-color);\n",
              "      border-left-color: var(--fill-color);\n",
              "    }\n",
              "    20% {\n",
              "      border-color: transparent;\n",
              "      border-left-color: var(--fill-color);\n",
              "      border-top-color: var(--fill-color);\n",
              "    }\n",
              "    30% {\n",
              "      border-color: transparent;\n",
              "      border-left-color: var(--fill-color);\n",
              "      border-top-color: var(--fill-color);\n",
              "      border-right-color: var(--fill-color);\n",
              "    }\n",
              "    40% {\n",
              "      border-color: transparent;\n",
              "      border-right-color: var(--fill-color);\n",
              "      border-top-color: var(--fill-color);\n",
              "    }\n",
              "    60% {\n",
              "      border-color: transparent;\n",
              "      border-right-color: var(--fill-color);\n",
              "    }\n",
              "    80% {\n",
              "      border-color: transparent;\n",
              "      border-right-color: var(--fill-color);\n",
              "      border-bottom-color: var(--fill-color);\n",
              "    }\n",
              "    90% {\n",
              "      border-color: transparent;\n",
              "      border-bottom-color: var(--fill-color);\n",
              "    }\n",
              "  }\n",
              "</style>\n",
              "\n",
              "  <script>\n",
              "    async function quickchart(key) {\n",
              "      const quickchartButtonEl =\n",
              "        document.querySelector('#' + key + ' button');\n",
              "      quickchartButtonEl.disabled = true;  // To prevent multiple clicks.\n",
              "      quickchartButtonEl.classList.add('colab-df-spinner');\n",
              "      try {\n",
              "        const charts = await google.colab.kernel.invokeFunction(\n",
              "            'suggestCharts', [key], {});\n",
              "      } catch (error) {\n",
              "        console.error('Error during call to suggestCharts:', error);\n",
              "      }\n",
              "      quickchartButtonEl.classList.remove('colab-df-spinner');\n",
              "      quickchartButtonEl.classList.add('colab-df-quickchart-complete');\n",
              "    }\n",
              "    (() => {\n",
              "      let quickchartButtonEl =\n",
              "        document.querySelector('#df-c71f107b-7106-45b1-affb-1a6e44a15661 button');\n",
              "      quickchartButtonEl.style.display =\n",
              "        google.colab.kernel.accessAllowed ? 'block' : 'none';\n",
              "    })();\n",
              "  </script>\n",
              "</div>\n",
              "    </div>\n",
              "  </div>\n"
            ]
          },
          "metadata": {},
          "execution_count": 99
        }
      ],
      "source": [
        "# Evaluation\n",
        "results= [['Baseline Model', bl], ['Model 1', m1], ['Model 2', m2],['model 3', m3]]\n",
        "\n",
        "Liverpatient_predi= pd.DataFrame(results, columns = ['classification models', 'accuracy_score'])\n",
        "Liverpatient_predi\n",
        "\n"
      ]
    },
    {
      "cell_type": "code",
      "source": [
        "plt.figure(figsize=(7,5))\n",
        "plt.xticks(rotation=90)\n",
        "plt.title('Classification models & accuracy scores',fontsize=20)\n",
        "sns.barplot(x=\"classification models\", y=\"accuracy_score\",  data=Liverpatient_predi,palette = \"mako\")"
      ],
      "metadata": {
        "id": "H1jeuxijGnHn",
        "colab": {
          "base_uri": "https://localhost:8080/",
          "height": 604
        },
        "outputId": "8fd28162-2bbd-4267-c0b3-e81a607d7882"
      },
      "id": "H1jeuxijGnHn",
      "execution_count": null,
      "outputs": [
        {
          "output_type": "execute_result",
          "data": {
            "text/plain": [
              "<Axes: title={'center': 'Classification models & accuracy scores'}, xlabel='classification models', ylabel='accuracy_score'>"
            ]
          },
          "metadata": {},
          "execution_count": 98
        },
        {
          "output_type": "display_data",
          "data": {
            "text/plain": [
              "<Figure size 700x500 with 1 Axes>"
            ],
            "image/png": "[encoded data removed]"
          },
          "metadata": {}
        }
      ]
    },
    {
      "cell_type": "markdown",
      "id": "c5526cf7",
      "metadata": {
        "id": "c5526cf7"
      },
      "source": [
        "#### Hasil dan Analisis\n",
        "1. Baseline Model (Default)\n",
        "\n",
        "  Akurasi: 80.57%\n",
        "\n",
        "  Analisis:\n",
        "  *   Model dasar ini memberikan akurasi yang relatif tinggi, yaitu sekitar 80.57%.\n",
        "  *   Precision untuk kelas 1 (pasien dengan penyakit) adalah 85%, yang menunjukkan bahwa model cenderung baik dalam mengidentifikasi pasien yang sebenarnya menderita penyakit.\n",
        "  *   Namun, recall untuk kelas 2 (pasien tanpa penyakit) adalah 39%, yang berarti model kurang efektif dalam mengidentifikasi pasien yang sebenarnya tidak menderita penyakit.\n",
        "\n",
        "2. Model 1 (High Estimators)\n",
        "\n",
        "  Akurasi: 78.86%\n",
        "\n",
        "  Analisis:\n",
        "\n",
        "  *   Meskipun menggunakan lebih banyak pohon keputusan (high estimators), model ini memberikan akurasi yang sedikit lebih rendah dibandingkan baseline.\n",
        "  *   Ada penurunan dalam recall untuk kelas 2, yang berarti model kurang efektif dalam mengidentifikasi pasien yang tidak menderita penyakit dibandingkan baseline.\n",
        "\n",
        "3. Model 2 (Low Max Depth)\n",
        "\n",
        "  Akurasi: 77.14%\n",
        "\n",
        "  Analisis:\n",
        "\n",
        "  *   Dengan membatasi kedalaman maksimum pohon (Low Max Depth), model ini menunjukkan penurunan akurasi lebih lanjut.\n",
        "  *   Sama seperti model 1, recall untuk kelas 2 juga rendah, menunjukkan kesulitan model dalam mengidentifikasi pasien yang tidak menderita penyakit.\n",
        "  \n",
        "4. Model 3 (Low Max Features)\n",
        "\n",
        "  Akurasi: 78.29%\n",
        "\n",
        "  Analisis:\n",
        "\n",
        "  *   Memilih sedikit fitur untuk setiap pohon dengan mengatur \"Low Max Features\" tidak menghasilkan perubahan yang signifikan dalam akurasi dibandingkan baseline.\n",
        "  *   Namun, seperti model lainnya, recall untuk kelas 2 tetap rendah, menunjukkan kesulitan model dalam mengidentifikasi pasien yang tidak menderita penyakit.\n",
        "\n",
        "\n",
        "\n"
      ]
    },
    {
      "cell_type": "markdown",
      "id": "8a255fe5",
      "metadata": {
        "id": "8a255fe5"
      },
      "source": [
        "#### Kesimpulan\n",
        "\n",
        "\n",
        "*   Model dasar (baseline) menunjukkan performa yang relatif baik, tetapi masih ada ruang untuk perbaikan khususnya dalam mengidentifikasi pasien yang tidak menderita penyakit.\n",
        "*   Semua skema memberikan hasil yang serupa secara umum, dengan akurasi di sekitar 77-78%.\n",
        "*   Meskipun teknik pengoptimalan seperti peningkatan estimators, pengurangan kedalaman, dan pengurangan fitur telah dicoba, mereka belum berhasil meningkatkan performa model dalam mengenali pasien dengan penyakit.\n",
        "*   Ada kebutuhan untuk lebih jauh menggali dan mungkin menggunakan teknik-teknik pengoptimalan lain atau pendekatan yang berbeda untuk meningkatkan kinerja model pada dataset ini.\n",
        "\n",
        "\n",
        "\n",
        "\n",
        "\n",
        "\n"
      ]
    }
  ],
  "metadata": {
    "kernelspec": {
      "display_name": "Python 3 (ipykernel)",
      "language": "python",
      "name": "python3"
    },
    "language_info": {
      "codemirror_mode": {
        "name": "ipython",
        "version": 3
      },
      "file_extension": ".py",
      "mimetype": "text/x-python",
      "name": "python",
      "nbconvert_exporter": "python",
      "pygments_lexer": "ipython3",
      "version": "3.10.9"
    },
    "colab": {
      "provenance": [],
      "toc_visible": true,
      "include_colab_link": true
    }
  },
  "nbformat": 4,
  "nbformat_minor": 5
}